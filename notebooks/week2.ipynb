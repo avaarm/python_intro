{
 "cells": [
  {
   "cell_type": "markdown",
   "metadata": {},
   "source": [
    "# Introduction to Python, Week 2: Starting with data"
   ]
  },
  {
   "cell_type": "markdown",
   "metadata": {},
   "source": [
    "## Before class\n",
    "- share URL to hack.md with link to zipped dataset file to download"
   ]
  },
  {
   "cell_type": "markdown",
   "metadata": {},
   "source": [
    "## Objectives\n",
    "- review previous week's objectives\n",
    "### Today:\n",
    "- using packages\n",
    "- tidy data and importing data to python\n",
    "- electing data using labels (columns) and rows\n",
    "- slicing subsets of rows and columns\n",
    "- calculating summary statistics\n",
    "\n",
    "## Using packages\n",
    "- make sure everyone is working in project directory\n",
    "- create new notebook for this week's material (name week2)\n",
    "- introduction to packages\n",
    "    - collection of functions\n",
    "    - community contributed (anyone can write a package!)\n",
    "- describe pandas\n",
    "    - python data analysis library"
   ]
  },
  {
   "cell_type": "code",
   "execution_count": 34,
   "metadata": {},
   "outputs": [],
   "source": [
    "# make packages available to use in this notebook\n",
    "import os\n",
    "import urllib.request\n",
    "import pandas as pd # pd is alias, or shortcut, to specify we're using a function from it"
   ]
  },
  {
   "cell_type": "markdown",
   "metadata": {},
   "source": [
    "## Importing data"
   ]
  },
  {
   "cell_type": "code",
   "execution_count": 35,
   "metadata": {},
   "outputs": [
    {
     "ename": "FileExistsError",
     "evalue": "[Errno 17] File exists: 'data'",
     "output_type": "error",
     "traceback": [
      "\u001b[0;31m---------------------------------------------------------------------------\u001b[0m",
      "\u001b[0;31mFileExistsError\u001b[0m                           Traceback (most recent call last)",
      "\u001b[0;32m<ipython-input-35-23a86202796a>\u001b[0m in \u001b[0;36m<module>\u001b[0;34m()\u001b[0m\n\u001b[1;32m      1\u001b[0m \u001b[0;31m# create data directory\u001b[0m\u001b[0;34m\u001b[0m\u001b[0;34m\u001b[0m\u001b[0;34m\u001b[0m\u001b[0m\n\u001b[0;32m----> 2\u001b[0;31m \u001b[0mos\u001b[0m\u001b[0;34m.\u001b[0m\u001b[0mmkdir\u001b[0m\u001b[0;34m(\u001b[0m\u001b[0;34m\"data\"\u001b[0m\u001b[0;34m)\u001b[0m\u001b[0;34m\u001b[0m\u001b[0;34m\u001b[0m\u001b[0m\n\u001b[0m",
      "\u001b[0;31mFileExistsError\u001b[0m: [Errno 17] File exists: 'data'"
     ]
    }
   ],
   "source": [
    "# create data directory\n",
    "os.mkdir(\"data\")"
   ]
  },
  {
   "cell_type": "code",
   "execution_count": null,
   "metadata": {},
   "outputs": [],
   "source": [
    "# download dataset (url on HackMD page)\n",
    "urllib.request.urlretrieve(\"https://raw.githubusercontent.com/fredhutchio/R_intro/master/extra/clinical.csv\", \"data/clinical.csv\")\n",
    "# can preview data file by opening in web browser, or opening CSV file in spreadsheet program\n",
    "# *data from The Cancer Genome Atlas (from NIH), several cancer types in one file"
   ]
  },
  {
   "cell_type": "markdown",
   "metadata": {},
   "source": [
    "## Overview of tidy data principles\n",
    "- columns: variables (demographic and health information)\n",
    "- rows: observations (patients)\n",
    "- one piece of info per cell\n",
    "\n",
    "_*csv: comma separated values (other things besides commas can have separators too though)_\n",
    "\n",
    "\n",
    "_backup option for downloading data, if above code doesn't work:_\n",
    "- show where to download data\n",
    "- emphasize unzipping directory and moving data to appropriate location"
   ]
  },
  {
   "cell_type": "code",
   "execution_count": null,
   "metadata": {},
   "outputs": [],
   "source": [
    "# import data as csv\n",
    "pd.read_csv(\"data/clinical.csv\")\n",
    "# this only prints it to the screen!"
   ]
  },
  {
   "cell_type": "code",
   "execution_count": null,
   "metadata": {},
   "outputs": [],
   "source": [
    "# assign data to object\n",
    "clinical_df = pd.read_csv(\"data/clinical.csv\")"
   ]
  },
  {
   "cell_type": "code",
   "execution_count": null,
   "metadata": {},
   "outputs": [],
   "source": [
    "# preview data import\n",
    "clinical_df.head() # print top few rows, by default .head() does 5"
   ]
  },
  {
   "cell_type": "code",
   "execution_count": null,
   "metadata": {},
   "outputs": [],
   "source": [
    "clinical_df.head() # print top few rows, 10 by default\n",
    "clinical_df.head(8) # print top n rows\n",
    "clinical_df.tail(20) # print last n rows\n",
    "clinical_df.info() # print a summary of all columns, entries, data types and non-null values"
   ]
  },
  {
   "cell_type": "code",
   "execution_count": null,
   "metadata": {},
   "outputs": [],
   "source": [
    "## Challenge: What do you need to do to download and import the following files correctly:\n",
    "# example1: https://raw.githubusercontent.com/fredhutchio/R_intro/master/extra/clinical.tsv\n",
    "# pd.read_csv(\"/data/clinical.tsv\", sep=\"\\t\")\n",
    "# example2: https://raw.githubusercontent.com/fredhutchio/R_intro/master/extra/clinical.txt\n",
    "# pd.read_csv(\"../data/clinical.txt\", sep=\" \")"
   ]
  },
  {
   "cell_type": "code",
   "execution_count": null,
   "metadata": {},
   "outputs": [],
   "source": [
    "# examine data import\n",
    "type(clinical_df) # look at data type"
   ]
  },
  {
   "cell_type": "code",
   "execution_count": null,
   "metadata": {},
   "outputs": [],
   "source": [
    "clinical_df.columns # view column names"
   ]
  },
  {
   "cell_type": "code",
   "execution_count": null,
   "metadata": {},
   "outputs": [],
   "source": [
    "clinical_df.dtypes # look at type of data in each column"
   ]
  },
  {
   "cell_type": "markdown",
   "metadata": {},
   "source": [
    "Can enter following as markdown cell (* render as bullet points)\n",
    "## **Data types:** pandas _vs_ native python\n",
    "* object = string\n",
    "* int64 = integer (64 bit)\n",
    "* float64 = float\n",
    "* datetime64 = N/A"
   ]
  },
  {
   "cell_type": "markdown",
   "metadata": {},
   "source": [
    "## Selecting data using labels (columns) and row ranges"
   ]
  },
  {
   "cell_type": "code",
   "execution_count": null,
   "metadata": {},
   "outputs": [],
   "source": [
    "# select a \"subset\" of the data using the column name\n",
    "clinical_df[\"tumor_stage\"]"
   ]
  },
  {
   "cell_type": "code",
   "execution_count": null,
   "metadata": {},
   "outputs": [],
   "source": [
    "# show only the first few rows of output\n",
    "clinical_df[\"tumor_stage\"].head()"
   ]
  },
  {
   "cell_type": "code",
   "execution_count": null,
   "metadata": {},
   "outputs": [],
   "source": [
    "# show data type for this row\n",
    "clinical_df[\"tumor_stage\"].dtype # single column, O stands for \"object\""
   ]
  },
  {
   "cell_type": "code",
   "execution_count": null,
   "metadata": {},
   "outputs": [],
   "source": [
    "# use the column name as an \"attribute\"; gives the same output\n",
    "clinical_df.tumor_stage"
   ]
  },
  {
   "cell_type": "code",
   "execution_count": null,
   "metadata": {},
   "outputs": [],
   "source": [
    "# head still works here!\n",
    "clinical_df.tumor_stage.head()"
   ]
  },
  {
   "cell_type": "code",
   "execution_count": null,
   "metadata": {},
   "outputs": [],
   "source": [
    "# What happens if you ask for a column that doesn't exist?\n",
    "# clinical_df[\"tumorstage\"] # uncomment this line"
   ]
  },
  {
   "cell_type": "code",
   "execution_count": null,
   "metadata": {},
   "outputs": [],
   "source": [
    "# Select two columns at once\n",
    "clinical_df[[\"tumor_stage\", \"vital_status\"]]\n",
    "# can't use .column_name because there are multiple columns!\n",
    "# double brackets are part of normal python syntax;\n",
    "# they reference parts of lists, which can represent more complex data structures"
   ]
  },
  {
   "cell_type": "markdown",
   "metadata": {},
   "source": [
    "**Challenge:** does the order of the columns you list matter?"
   ]
  },
  {
   "cell_type": "code",
   "execution_count": null,
   "metadata": {},
   "outputs": [],
   "source": [
    "# Select rows 0, 1, 2 (row 3 is not selected)\n",
    "clinical_df[0:3]"
   ]
  },
  {
   "cell_type": "code",
   "execution_count": null,
   "metadata": {},
   "outputs": [],
   "source": [
    "# Select row 2 to the end\n",
    "clinical_df[1:]"
   ]
  },
  {
   "cell_type": "code",
   "execution_count": null,
   "metadata": {},
   "outputs": [],
   "source": [
    "# Select the last element in the list\n",
    "clinical_df[-1:] # what does this mean in the context of indexing?"
   ]
  },
  {
   "cell_type": "markdown",
   "metadata": {},
   "source": [
    "### BREAK\n",
    "\n",
    "**Challenge:** how would you extract the last 10 rows of the dataset?"
   ]
  },
  {
   "cell_type": "markdown",
   "metadata": {},
   "source": [
    "## Slicing subsets of rows and columns"
   ]
  },
  {
   "cell_type": "code",
   "execution_count": null,
   "metadata": {},
   "outputs": [],
   "source": [
    "# iloc is integer indexing [row slicing, column slicing]\n",
    "# locate specific data element\n",
    "clinical_df.iloc[2, 6]"
   ]
  },
  {
   "cell_type": "code",
   "execution_count": null,
   "metadata": {},
   "outputs": [],
   "source": [
    "# select range of data\n",
    "clinical_df.iloc[0:3, 1:4]"
   ]
  },
  {
   "cell_type": "code",
   "execution_count": null,
   "metadata": {},
   "outputs": [],
   "source": [
    "# stop/end bound is NOT inclusive (e.g., up to but not including 3)\n",
    "# can use empty stop boundary to indicate end of data\n",
    "clinical_df.iloc[0:, 1:4]"
   ]
  },
  {
   "cell_type": "code",
   "execution_count": null,
   "metadata": {},
   "outputs": [],
   "source": [
    "# loc is for label indexing (integers interpreted as labels)\n",
    "# start and stop bound are inclusive\n",
    "clinical_df.loc[1:4]"
   ]
  },
  {
   "cell_type": "code",
   "execution_count": null,
   "metadata": {},
   "outputs": [],
   "source": [
    "# can use empty stop boundary to indicate end of data\n",
    "clinical_df.loc[1: ]"
   ]
  },
  {
   "cell_type": "code",
   "execution_count": null,
   "metadata": {},
   "outputs": [],
   "source": [
    "# Select all columns for rows of index values specified\n",
    "clinical_df.loc[[0, 10, 6831], ]"
   ]
  },
  {
   "cell_type": "code",
   "execution_count": null,
   "metadata": {},
   "outputs": [],
   "source": [
    "# select first row for specified columns\n",
    "clinical_df.loc[0, [\"primary_diagnosis\", \"tumor_stage\", \"age_at_diagnosis\"]]"
   ]
  },
  {
   "cell_type": "markdown",
   "metadata": {},
   "source": [
    "**Challenge:** why doesn't the following code work?\n",
    "\n",
    "`clinical_df.loc[2, 6]`"
   ]
  },
  {
   "cell_type": "markdown",
   "metadata": {},
   "source": [
    "**Challenge:** how would you extract the last 100 rows for only vital status and days to death?"
   ]
  },
  {
   "cell_type": "code",
   "execution_count": null,
   "metadata": {},
   "outputs": [],
   "source": [
    "clinical_df.loc[6732:, [\"vital_status\", \"days_to_death\"]]"
   ]
  },
  {
   "cell_type": "code",
   "execution_count": null,
   "metadata": {},
   "outputs": [],
   "source": [
    "clinical_df.iloc[-100:, [3,5]]"
   ]
  },
  {
   "cell_type": "code",
   "execution_count": null,
   "metadata": {},
   "outputs": [],
   "source": [
    "clinical_df.info()\n",
    "# Say you have a dataframe with a lot of columns and you want to grab alot of them\n",
    "# for your analysis but not all. You can use numpy's R_ to make it easer\n",
    "\n",
    "import numpy as np # imports numpy and aliases it as \"np\"\n",
    "# Now say you want to get all the rows and columns but 'bcr_patient_barcode'\n",
    "\n",
    "# clinical_df.iloc[0:, 0:18, 19:20] # this WONT work\n",
    "clinical_df.iloc[0:, np.r_[0:18, 19:20] ] # but this does\n",
    "\n",
    "# We are using numpy's R- which translates slice objects to concatenate along the first axis\n",
    "np.r_[0:18, 19:20] # this takes the slices objects and makes an array\n",
    "\n",
    "# You can then pass that array to iloc like so:\n",
    "clinical_df.iloc[0:, np.r_[0:18, 19:20] ].head()\n",
    "# This is just an easy way to quickly wrangle large dataframes by columns if need be\n",
    "\n",
    "# You can also employ this when reading in files as dataframes using the `usecols` parameter like so\n",
    "#pd.read_csv(\"data/clinical.txt\", sep=\" \", usecols=np.r_[0:18, 19:20])"
   ]
  },
  {
   "cell_type": "markdown",
   "metadata": {},
   "source": [
    "## Calculating summary statistics"
   ]
  },
  {
   "cell_type": "code",
   "execution_count": null,
   "metadata": {},
   "outputs": [],
   "source": [
    "# calculate basic stats for all records in single column\n",
    "clinical_df.age_at_diagnosis.describe()"
   ]
  },
  {
   "cell_type": "code",
   "execution_count": null,
   "metadata": {},
   "outputs": [],
   "source": [
    "# each metric one at a time (only prints last if all executed in one cell!)\n",
    "clinical_df.age_at_diagnosis.min()"
   ]
  },
  {
   "cell_type": "code",
   "execution_count": null,
   "metadata": {},
   "outputs": [],
   "source": [
    "# convert columns\n",
    "clinical_df.age_at_diagnosis/365"
   ]
  },
  {
   "cell_type": "code",
   "execution_count": null,
   "metadata": {},
   "outputs": [],
   "source": [
    "# convert min to days\n",
    "clinical_df.age_at_diagnosis.min()/365"
   ]
  },
  {
   "cell_type": "code",
   "execution_count": null,
   "metadata": {},
   "outputs": [],
   "source": [
    "## Challenge: What type of summary stats do you get for object data?\n",
    "clinical_df.site_of_resection_or_biopsy.describe()"
   ]
  },
  {
   "cell_type": "code",
   "execution_count": null,
   "metadata": {},
   "outputs": [],
   "source": [
    "## Challenge: How would you extract only the standard deviation for days to death?\n",
    "clinical_df.days_to_death.std()"
   ]
  },
  {
   "cell_type": "markdown",
   "metadata": {},
   "source": [
    "## Copying vs referencing objects"
   ]
  },
  {
   "cell_type": "code",
   "execution_count": null,
   "metadata": {},
   "outputs": [],
   "source": [
    "# Using the \"=\" operator references the previous object\n",
    "ref_clinical_df = clinical_df\n",
    "ref_clinical_df"
   ]
  },
  {
   "cell_type": "code",
   "execution_count": null,
   "metadata": {},
   "outputs": [],
   "source": [
    "# Using the \"copy() method\": actually creates another object\n",
    "true_copy_clinical_df = clinical_df.copy()\n",
    "true_copy_clinical_df"
   ]
  },
  {
   "cell_type": "code",
   "execution_count": null,
   "metadata": {},
   "outputs": [],
   "source": [
    "# Assign the value `0` to the first three rows of data in the DataFrame\n",
    "ref_clinical_df[0:3] = 0\n",
    "ref_clinical_df.head()\n",
    "# note: you probably wouldn't want to actually *do* this to your data!"
   ]
  },
  {
   "cell_type": "markdown",
   "metadata": {},
   "source": [
    "**Challenge:** How and why are the following three objects different?\n",
    "_Hint: try applying `head()`_"
   ]
  },
  {
   "cell_type": "code",
   "execution_count": null,
   "metadata": {},
   "outputs": [],
   "source": [
    "clinical_df.head() # has been modified because ref_clinical_df referenced it"
   ]
  },
  {
   "cell_type": "code",
   "execution_count": null,
   "metadata": {},
   "outputs": [],
   "source": [
    "ref_clinical_df.head() # was actually altered"
   ]
  },
  {
   "cell_type": "code",
   "execution_count": null,
   "metadata": {},
   "outputs": [],
   "source": [
    "true_copy_clinical_df.head() # actual copy of original, unaltered\n",
    "# reinforce that the order of operations matters!"
   ]
  },
  {
   "cell_type": "markdown",
   "metadata": {},
   "source": [
    "## Wrapping up\n",
    "- review objectives\n",
    "- preview next week's objectives\n",
    "- demo of spyder IDE, if time allows"
   ]
  },
  {
   "cell_type": "code",
   "execution_count": null,
   "metadata": {},
   "outputs": [],
   "source": []
  }
 ],
 "metadata": {
  "anaconda-cloud": {},
  "kernelspec": {
   "display_name": "Python 3",
   "language": "python",
   "name": "python3"
  },
  "language_info": {
   "codemirror_mode": {
    "name": "ipython",
    "version": 3
   },
   "file_extension": ".py",
   "mimetype": "text/x-python",
   "name": "python",
   "nbconvert_exporter": "python",
   "pygments_lexer": "ipython3",
   "version": "3.6.8"
  }
 },
 "nbformat": 4,
 "nbformat_minor": 4
}
