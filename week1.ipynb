{
 "cells": [
  {
   "cell_type": "markdown",
   "metadata": {},
   "source": [
    "# Intro to Python: Functions and variables"
   ]
  },
  {
   "cell_type": "markdown",
   "metadata": {},
   "source": [
    "## Objectives\n",
    "\n",
    "Welcome to Introduction to Python from fredhutch.io! \n",
    "This course introduces you Python by working through common tasks in data science: \n",
    "importing, manipulating, and visualizing data.\n",
    "\n",
    "Python is a computer programming language widely used for a variety of applications. \n",
    "For more information about Python and ways to use it at Fred Hutch, please see the \n",
    "[Python](https://sciwiki.fredhutch.org/scicomputing/software_python/) \n",
    "entry for the Fred Hutch Biomedical Data Science Wiki.\n",
    "\n",
    "Before proceeding with these training materials, \n",
    "please ensure you have installed Python and Jupyter notebooks via Anaconda as described \n",
    "[here](http://www.fredhutch.io/software/#python-jupyter-notebooks). \n",
    "Please note you'll also need to install `plotnine` separately for the last module.\n",
    "\n",
    "By the end of this first module, you should be able to:\n",
    "\n",
    "- work in a Jupyter notebook to run and record Python code\n",
    "- understand basic Python syntax to use functions and assign variables\n",
    "- create basic data structures (sequences and dictionaries)\n",
    "- define functions"
   ]
  },
  {
   "cell_type": "markdown",
   "metadata": {},
   "source": [
    "## A brief orientation to Python and Jupyter notebooks\n",
    "\n",
    "Python is a commonly used programming language among researchers,\n",
    "and has a large community and set of tools available to support its use.\n",
    "As a result, there are many different ways to interact with Python,\n",
    "the choice of which depends on your specific need for coding.\n",
    "In this class, we'll be using [Jupyter notebooks](https://jupyter.readthedocs.io/en/latest/) \n",
    "to write, run, and maintain a record of our work.\n",
    "\n",
    "A Jupyter notebook is an interface operated in a web browser \n",
    "that allows inclusion of code, output (including graphics) and explanatory text\n",
    "all in the same document. \n",
    "In fact, these lesson materials are written in a Jupyter notebook.\n",
    "Jupyter notebooks can also be used as a method of communicating research methods,\n",
    "such as [this notebook](https://github.com/rasilab/machkovech_2018/blob/master/scripts/NA43_competition.ipynb) \n",
    "associated with a published manuscript from Rasi Subramaniam's lab at Fred Hutch."
   ]
  },
  {
   "cell_type": "markdown",
   "metadata": {},
   "source": [
    "### Creating a new Jupyter notebook\n",
    "\n",
    "You can access Jupyter notebooks through Anaconda,\n",
    "which is the software you used to install Python as well.\n",
    "Anaconda is a version of conda, a package manager that helps you install and update software.\n",
    "\n",
    "Open the Anaconda Navigator software on your computer, \n",
    "then click on Jupyter Notebook \n",
    "(note that this is different than Jupyter Lab!).\n",
    "\n",
    "You'll see your default web browser open a new tab.\n",
    "On a Mac, you may also see a Terminal window open;\n",
    "this window needs to stay open for Python to run,\n",
    "but we recommend you minimize it so it stays out of the way.\n",
    "\n",
    "In the Jupyter notebook window in your web browser,\n",
    "note the URL at the top: \n",
    "it should start with something like `http://localhost:8888/tree`.\n",
    "In the browser window, you should see folders like \"Documents\" and \"Desktop.\"\n",
    "This window represents a different way to interact with the files on your computer.\n",
    "Although you're viewing these files in a web browser,\n",
    "you're not necessarily working with files online.\n",
    "\n",
    "We're going to create a project directory for the purposes of this course. \n",
    "You can think of a project as a discrete unit of work, \n",
    "such as a chapter of a thesis/dissertation, analysis for a manuscript, or a monthly report. \n",
    "We recommend organizing your code, data, and other associated files as projects, \n",
    "which allows you to keep all parts of an analysis together for easier access.\n",
    "\n",
    "Create a new project for this class using the Jupyter notebook file browser:\n",
    "\n",
    "- Navigate to the location in your computer where you'd like to save files for this class (we recommend Desktop or Documents).\n",
    "- Click \"New\" in the upper right hand corner of the screen, then \"Folder\". This will create a new folder named \"Untitled Folder\".\n",
    "- Click the box next to \"Untitled Folder\", then select \"Rename\" near the upper left corner of the screen. Name the new directory \"intro_python\"; we'll now refer to this as your project directory.\n",
    "- Click on the new folder to view its contents (it should be empty).\n",
    "- Click \"New\" in upper right hand corner of the window, then select \"Python3\". This creates a new ipython notebook file and opens it in a new tab. Click on the title of the notebook to rename the file \"class1\". If you click on the browser tab for the file browser, you can also rename as for the folder earlier. You'll note this filename has a suffix of `ipynb`."
   ]
  },
  {
   "cell_type": "markdown",
   "metadata": {},
   "source": [
    "### Executing code in a Jupyter notebook\n",
    "\n",
    "Now that we have a new project and an empty notebook set up, we can begin orienting ourselves to how notebooks work to hold our text, code, and output.\n",
    "\n",
    "The pale gray box you see at the top of your screen with `In [ ]` to the left is a cell.\n",
    "By default, each cell is created as a code cell.\n",
    "Because our notebook is Python 3, \n",
    "our code cells are able to execute Python code.\n",
    "We can test this out by entering `3 + 4` into the cell,\n",
    "then holding down the Shift key and pressing Enter/Return.\n",
    "This executes (runs) the code in the cell and prints the output below,\n",
    "prefaced by `Out[ ]`.\n",
    "Executing the code this way also creates a new cell below the one you executed.\n",
    "If a new cell doesn't appear,\n",
    "you can add one using the `+` button in the toolbar at the top of the screen. \n",
    "\n",
    "Cells can also be used to enter text using [Markdown formatting](https://www.markdownguide.org/basic-syntax/).\n",
    "Change the type of your new cell by going to the dropdown box in the tool bar at the top of the window and changing \"Code\" to \"Markdown.\" \n",
    "Add a subtitle in this cell by entering `## Operators, functions, and data types`,\n",
    "then using Shift + Enter to execute the cell,\n",
    "which formats the text as large and bold.\n",
    "The link above includes more information about Markdown formatting,\n",
    "but we'll generally use only plain text and subtitles for this course.\n",
    "\n",
    "Jupyter notebooks include many other features, \n",
    "which you can explore in the toolbar and dropdown menus at the top of the screen. \n",
    "Additional keyboard shortcuts are also available under Help -> Keyboard Shortcuts."
   ]
  },
  {
   "cell_type": "markdown",
   "metadata": {},
   "source": [
    "## Operators, functions, and data types"
   ]
  },
  {
   "cell_type": "markdown",
   "metadata": {},
   "source": [
    "Now that we have a notebook created, \n",
    "as well as a basic understanding of how to write and execute code, \n",
    "we can begin learning more about Python syntax,\n",
    "which are rules that dictate how combinations of words and symbols are interpreted in a language."
   ]
  },
  {
   "cell_type": "code",
   "execution_count": 52,
   "metadata": {},
   "outputs": [
    {
     "data": {
      "text/plain": [
       "9"
      ]
     },
     "execution_count": 52,
     "metadata": {},
     "output_type": "execute_result"
    }
   ],
   "source": [
    "# mathematical operator\n",
    "4 + 5"
   ]
  },
  {
   "cell_type": "markdown",
   "metadata": {},
   "source": [
    "The first line in the example above is a code comment. \n",
    "It is not interpreted by Python, but is a human-readable explanation of the code that follows. \n",
    "In Python, anything to the right of one or more `#` symbols represents a comment.\n",
    "\n",
    "> Syntax differs among language.\n",
    "> So far in this lesson, \n",
    "> we've learned that Markdown interprets `#` as a way of formatting titles and subtitles, \n",
    "> while in Python the same symbol represents a code comment.\n",
    "\n",
    "As we proceed through these lessons, \n",
    "we recommend trying to type the example code so it appears as similar as possible to what is presented here.\n",
    "From the example above,\n",
    "you may now be wondering if the spaces on either side of the `+` are required.\n",
    "We can test this for ourselves:"
   ]
  },
  {
   "cell_type": "code",
   "execution_count": 53,
   "metadata": {},
   "outputs": [
    {
     "data": {
      "text/plain": [
       "9"
      ]
     },
     "execution_count": 53,
     "metadata": {},
     "output_type": "execute_result"
    }
   ],
   "source": [
    "4+5 "
   ]
  },
  {
   "cell_type": "markdown",
   "metadata": {},
   "source": [
    "The code above indicates that the spaces are not required, \n",
    "but are convention. \n",
    "Code convention and style doesn’t make or break the ability of your code to run, \n",
    "but it does affect whether other people can easily understand your code. \n",
    "We'll try to model appropriate code convention for this course,\n",
    "and you can read more about Python formatting recommendations [here](https://www.python.org/dev/peps/pep-0008/#id26).\n",
    "\n",
    "We can also use logical operators to evaluate whether a given statement is true or false:"
   ]
  },
  {
   "cell_type": "code",
   "execution_count": 54,
   "metadata": {},
   "outputs": [
    {
     "data": {
      "text/plain": [
       "False"
      ]
     },
     "execution_count": 54,
     "metadata": {},
     "output_type": "execute_result"
    }
   ],
   "source": [
    "3 > 4 "
   ]
  },
  {
   "cell_type": "markdown",
   "metadata": {},
   "source": [
    "In addition to logical data,\n",
    "python possesses a few other built-in data types:"
   ]
  },
  {
   "cell_type": "code",
   "execution_count": 55,
   "metadata": {},
   "outputs": [],
   "source": [
    "# data types in python\n",
    "number = 42 \n",
    "pi_value = 3.1415 \n",
    "text = \"Fred Hutch\" "
   ]
  },
  {
   "cell_type": "markdown",
   "metadata": {},
   "source": [
    "In the code above, \n",
    "we have assigned three new variables.\n",
    "Like in math, \n",
    "a variable is a word used to represent data,\n",
    "which can be a single value or more complex collections. \n",
    "\n",
    "We can use the variables we just created to explore other built-in data types using functions.\n",
    "Functions are pre-defined sets of code that allow you to repeat particular actions:"
   ]
  },
  {
   "cell_type": "code",
   "execution_count": 56,
   "metadata": {},
   "outputs": [
    {
     "data": {
      "text/plain": [
       "int"
      ]
     },
     "execution_count": 56,
     "metadata": {},
     "output_type": "execute_result"
    }
   ],
   "source": [
    "# use function to identify data type\n",
    "type(number)"
   ]
  },
  {
   "cell_type": "markdown",
   "metadata": {},
   "source": [
    "In the code above, `type` is the function and `number` is the variable we assigned earlier.\n",
    "This code is asking what type of data `number` represents, \n",
    "and the output, `int`, stands for integer (whole number data)."
   ]
  },
  {
   "cell_type": "code",
   "execution_count": 57,
   "metadata": {},
   "outputs": [
    {
     "data": {
      "text/plain": [
       "float"
      ]
     },
     "execution_count": 57,
     "metadata": {},
     "output_type": "execute_result"
    }
   ],
   "source": [
    "type(pi_value)"
   ]
  },
  {
   "cell_type": "markdown",
   "metadata": {},
   "source": [
    "`float` data represents numbers with decimal points."
   ]
  },
  {
   "cell_type": "code",
   "execution_count": 58,
   "metadata": {},
   "outputs": [
    {
     "data": {
      "text/plain": [
       "str"
      ]
     },
     "execution_count": 58,
     "metadata": {},
     "output_type": "execute_result"
    }
   ],
   "source": [
    "type(text)"
   ]
  },
  {
   "cell_type": "markdown",
   "metadata": {},
   "source": [
    "`str` represents character data, also referred to as strings.\n",
    "These data include anything that can be included inside quotation marks,\n",
    "including letters, numbers, punctuation, and even emoji.\n",
    "\n",
    "We can also use functions to convert data among these types:"
   ]
  },
  {
   "cell_type": "code",
   "execution_count": 59,
   "metadata": {},
   "outputs": [
    {
     "data": {
      "text/plain": [
       "3"
      ]
     },
     "execution_count": 59,
     "metadata": {},
     "output_type": "execute_result"
    }
   ],
   "source": [
    "# convert float to integer\n",
    "int(pi_value) # decimals removed"
   ]
  },
  {
   "cell_type": "markdown",
   "metadata": {},
   "source": [
    "When we assigned (created) this variable, \n",
    "the two decimal places instructed Python to interpret it as a float value.\n",
    "By using the function `int`, \n",
    "we can convert the value to integer.\n",
    "\n",
    "If we again inspect the type of `pi_value`, though:"
   ]
  },
  {
   "cell_type": "code",
   "execution_count": 60,
   "metadata": {},
   "outputs": [
    {
     "data": {
      "text/plain": [
       "float"
      ]
     },
     "execution_count": 60,
     "metadata": {},
     "output_type": "execute_result"
    }
   ],
   "source": [
    "type(pi_value)"
   ]
  },
  {
   "cell_type": "markdown",
   "metadata": {},
   "source": [
    "We see the data type is still float. \n",
    "This is because we haven't altered the data type of the original variable, \n",
    "only the data type of the output printed to the screen.\n",
    "\n",
    "We can change the data type of our original variable by reassigning back to the same name:"
   ]
  },
  {
   "cell_type": "code",
   "execution_count": 61,
   "metadata": {},
   "outputs": [
    {
     "data": {
      "text/plain": [
       "int"
      ]
     },
     "execution_count": 61,
     "metadata": {},
     "output_type": "execute_result"
    }
   ],
   "source": [
    "# reassign variable\n",
    "pi_value = int(pi_value)\n",
    "type(pi_value)"
   ]
  },
  {
   "cell_type": "markdown",
   "metadata": {},
   "source": [
    "Now we see the type of the variable has changed to integer.\n",
    "\n",
    "Similarly, we can convert integers to float:"
   ]
  },
  {
   "cell_type": "code",
   "execution_count": 62,
   "metadata": {},
   "outputs": [
    {
     "data": {
      "text/plain": [
       "42.0"
      ]
     },
     "execution_count": 62,
     "metadata": {},
     "output_type": "execute_result"
    }
   ],
   "source": [
    "# convert integer to float\n",
    "float(number)"
   ]
  },
  {
   "cell_type": "markdown",
   "metadata": {},
   "source": [
    "Although the numerical value hasn't changed, the presence of the decimal in the output indicates it is a float.\n",
    "\n",
    "Notebooks allow you a handy shortcut to view the contents of a variable by executing only the variable name:"
   ]
  },
  {
   "cell_type": "code",
   "execution_count": 63,
   "metadata": {},
   "outputs": [
    {
     "data": {
      "text/plain": [
       "'Fred Hutch'"
      ]
     },
     "execution_count": 63,
     "metadata": {},
     "output_type": "execute_result"
    }
   ],
   "source": [
    "text"
   ]
  },
  {
   "cell_type": "markdown",
   "metadata": {},
   "source": [
    "This approach will work well enough for us in this class,\n",
    "since we'll be using notebooks the whole time.\n",
    "If you are using code written by other people, \n",
    "or begin writing code in scripts (outside notebooks),\n",
    "you'll often see the `print` function used:"
   ]
  },
  {
   "cell_type": "code",
   "execution_count": 64,
   "metadata": {},
   "outputs": [
    {
     "name": "stdout",
     "output_type": "stream",
     "text": [
      "Fred Hutch\n"
     ]
    }
   ],
   "source": [
    "# print output to screen\n",
    "print(text)"
   ]
  },
  {
   "cell_type": "markdown",
   "metadata": {},
   "source": [
    "The data output are the same for each of the two previous code cells,\n",
    "though they look slightly different.\n",
    "It's useful to note that the notebook will only print the result of the last command executed in a code cell,\n",
    "so if there are is other output in the cell you'd like to see, \n",
    "you may need to use the `print` function then as well.\n",
    "\n",
    "If you would like to find help on a function, \n",
    "there's a function for that:"
   ]
  },
  {
   "cell_type": "code",
   "execution_count": 65,
   "metadata": {},
   "outputs": [
    {
     "name": "stdout",
     "output_type": "stream",
     "text": [
      "Help on built-in function print in module builtins:\n",
      "\n",
      "print(...)\n",
      "    print(value, ..., sep=' ', end='\\n', file=sys.stdout, flush=False)\n",
      "    \n",
      "    Prints the values to a stream, or to sys.stdout by default.\n",
      "    Optional keyword arguments:\n",
      "    file:  a file-like object (stream); defaults to the current sys.stdout.\n",
      "    sep:   string inserted between values, default a space.\n",
      "    end:   string appended after the last value, default a newline.\n",
      "    flush: whether to forcibly flush the stream.\n",
      "\n"
     ]
    }
   ],
   "source": [
    "# find help on a function\n",
    "help(print)"
   ]
  },
  {
   "cell_type": "markdown",
   "metadata": {},
   "source": [
    "The help documentation may seem difficult to decipher right now, \n",
    "but includes following relevant information:\n",
    "\n",
    "- `Help on built-in function print in module builtins:` is a title for the information below\n",
    "-  The next two lines tell us basic information about how the function works\n",
    "- `Prints the values to a stream, or to sys.stdout by default.` is the explanation for the function\n",
    "- the remaining lines offer different options (arguments) for running this function\n",
    "\n",
    "`print` and `type` are built in functions that come with your installation of Python.\n",
    "There are many other functions available that allow you to perform common tasks while programming.\n",
    "You can also write your own functions \n",
    "(which we'll cover at the end of these materials),\n",
    "as well as load additional functions contained in packages written by other people \n",
    "(which we'll cover in our next class)."
   ]
  },
  {
   "cell_type": "markdown",
   "metadata": {},
   "source": [
    "## Sequences"
   ]
  },
  {
   "cell_type": "code",
   "execution_count": 66,
   "metadata": {},
   "outputs": [],
   "source": [
    "# lists: data structure that holds sequence of elements surrounded by square brackets\n",
    "numbers = [1, 2, 3]"
   ]
  },
  {
   "cell_type": "code",
   "execution_count": 67,
   "metadata": {},
   "outputs": [
    {
     "data": {
      "text/plain": [
       "1"
      ]
     },
     "execution_count": 67,
     "metadata": {},
     "output_type": "execute_result"
    }
   ],
   "source": [
    "# reference one part of a list\n",
    "numbers[0] # indexing starts at 0"
   ]
  },
  {
   "cell_type": "code",
   "execution_count": 68,
   "metadata": {},
   "outputs": [],
   "source": [
    "# find help on an object (can also check under help menu)\n",
    "?numbers \n",
    "# can also use help(numbers), but may not be useful to you right now"
   ]
  },
  {
   "cell_type": "code",
   "execution_count": 69,
   "metadata": {},
   "outputs": [],
   "source": [
    "# add number to end of list\n",
    "numbers.append(4) # append() is an attribute"
   ]
  },
  {
   "cell_type": "code",
   "execution_count": 70,
   "metadata": {},
   "outputs": [
    {
     "name": "stdout",
     "output_type": "stream",
     "text": [
      "[1, 2, 3, 4]\n"
     ]
    }
   ],
   "source": [
    "print(numbers)"
   ]
  },
  {
   "cell_type": "code",
   "execution_count": 71,
   "metadata": {},
   "outputs": [],
   "source": [
    "# can use tab complete in notebook to see other options\n",
    "?numbers.append \n",
    "# find help for attribute"
   ]
  },
  {
   "cell_type": "code",
   "execution_count": 72,
   "metadata": {},
   "outputs": [
    {
     "data": {
      "text/plain": [
       "['lung', 'breast', 'prostate']"
      ]
     },
     "execution_count": 72,
     "metadata": {},
     "output_type": "execute_result"
    }
   ],
   "source": [
    "# lists can be string data as well\n",
    "organs = [\"lung\", \"breast\", \"prostate\"]\n",
    "organs"
   ]
  },
  {
   "cell_type": "markdown",
   "metadata": {},
   "source": [
    "### BREAK\n",
    " \n",
    "**Challenge:** What google search could you use to determine a method for adding multiple values to a list?\n",
    "\n",
    "**Challenge:** How do you remove items from a list?"
   ]
  },
  {
   "cell_type": "code",
   "execution_count": 73,
   "metadata": {},
   "outputs": [],
   "source": [
    "# tuple: list with ordered sequence of elements; cannot be modified surrounded by parentheses\n",
    "a_tuple = (1, 2, 3)"
   ]
  },
  {
   "cell_type": "markdown",
   "metadata": {},
   "source": [
    "**Challenge:** What happens when you execute:\n",
    "\n",
    "```\n",
    "numbers[1] = 5\n",
    "a_tuple[2] = 5\n",
    "```"
   ]
  },
  {
   "cell_type": "code",
   "execution_count": 74,
   "metadata": {},
   "outputs": [],
   "source": [
    "# Traceback is a multi-line error block printed\n",
    "# includes information on what error and where in code\n",
    "# comment out code error if you want to keep it for notes"
   ]
  },
  {
   "cell_type": "code",
   "execution_count": 75,
   "metadata": {},
   "outputs": [
    {
     "data": {
      "text/plain": [
       "('lung', 200, 'chromosome 1')"
      ]
     },
     "execution_count": 75,
     "metadata": {},
     "output_type": "execute_result"
    }
   ],
   "source": [
    "# sequences can include more than just one data type\n",
    "mix_tuple = (\"lung\", 200, \"chromosome 1\") # can apply to lists, but they're more often one data type\n",
    "mix_tuple"
   ]
  },
  {
   "cell_type": "code",
   "execution_count": 76,
   "metadata": {},
   "outputs": [
    {
     "name": "stdout",
     "output_type": "stream",
     "text": [
      "lung\n",
      "200\n",
      "chromosome 1\n"
     ]
    }
   ],
   "source": [
    "# for loop to access elements in list, tuple, or other data structure one at a time\n",
    "for num in mix_tuple:\n",
    "    print(num)"
   ]
  },
  {
   "cell_type": "markdown",
   "metadata": {},
   "source": [
    "## Dictionaries"
   ]
  },
  {
   "cell_type": "code",
   "execution_count": 77,
   "metadata": {},
   "outputs": [
    {
     "data": {
      "text/plain": [
       "1"
      ]
     },
     "execution_count": 77,
     "metadata": {},
     "output_type": "execute_result"
    }
   ],
   "source": [
    "# dictionary: container holding a pair of objects, key and value\n",
    "translation = {\"one\": 1, \"two\": 2}\n",
    "translation[\"one\"]\n",
    "# example use of dictionary in biology: base pair matching when reverse-complementing DNA"
   ]
  },
  {
   "cell_type": "code",
   "execution_count": 78,
   "metadata": {},
   "outputs": [
    {
     "data": {
      "text/plain": [
       "{'yes': [1, 2, 3]}"
      ]
     },
     "execution_count": 78,
     "metadata": {},
     "output_type": "execute_result"
    }
   ],
   "source": [
    "# can include lists as values\n",
    "list_value = {\"yes\": [1, 2, 3]}\n",
    "list_value"
   ]
  },
  {
   "cell_type": "code",
   "execution_count": 80,
   "metadata": {},
   "outputs": [],
   "source": [
    "# cannot include lists as keys\n",
    "#list_key = {[1, 2, 3]: \"nope\"}"
   ]
  },
  {
   "cell_type": "code",
   "execution_count": 81,
   "metadata": {},
   "outputs": [
    {
     "data": {
      "text/plain": [
       "{1: 'one', 2: 'two'}"
      ]
     },
     "execution_count": 81,
     "metadata": {},
     "output_type": "execute_result"
    }
   ],
   "source": [
    "# add items to dictionaries by assigning new value to key\n",
    "rev = {1: \"one\", 2: \"two\"} # different data types can be key, value\n",
    "rev"
   ]
  },
  {
   "cell_type": "code",
   "execution_count": 82,
   "metadata": {},
   "outputs": [
    {
     "data": {
      "text/plain": [
       "{1: 'one', 2: 'two', 3: 'three'}"
      ]
     },
     "execution_count": 82,
     "metadata": {},
     "output_type": "execute_result"
    }
   ],
   "source": [
    "rev[3] = \"three\"\n",
    "rev"
   ]
  },
  {
   "cell_type": "code",
   "execution_count": 83,
   "metadata": {},
   "outputs": [
    {
     "name": "stdout",
     "output_type": "stream",
     "text": [
      "1 -> one\n",
      "2 -> two\n",
      "3 -> three\n"
     ]
    }
   ],
   "source": [
    "# two different approaches for printing key/value pairs in a dictionary\n",
    "# access each element using dict.keys i.e `rev.keys`\n",
    "for key in rev.keys():\n",
    "    print(key, \"->\", rev[key])"
   ]
  },
  {
   "cell_type": "code",
   "execution_count": 84,
   "metadata": {},
   "outputs": [
    {
     "name": "stdout",
     "output_type": "stream",
     "text": [
      "1 -> one\n",
      "2 -> two\n",
      "3 -> three\n"
     ]
    }
   ],
   "source": [
    "# access each element using dict.items i.e. `rev.keys`\n",
    "for key, value in rev.items():\n",
    "    print(key, \"->\", value)"
   ]
  },
  {
   "cell_type": "markdown",
   "metadata": {},
   "source": [
    "**Challenge:**\n",
    "- print only the values of the `rev` dictionary to the screen\n",
    "- Reassign the second value (in the key value pair) so that it no longer reads “two” but instead “apple-sauce”\n",
    "- Print the values of rev to the screen again to see if the value has changed"
   ]
  },
  {
   "cell_type": "markdown",
   "metadata": {},
   "source": [
    "## Functions"
   ]
  },
  {
   "cell_type": "code",
   "execution_count": 85,
   "metadata": {},
   "outputs": [],
   "source": [
    "# define a chunk of code as function\n",
    "def add_function(a, b):\n",
    "    result = a + b\n",
    "    return result"
   ]
  },
  {
   "cell_type": "code",
   "execution_count": 86,
   "metadata": {},
   "outputs": [
    {
     "name": "stdout",
     "output_type": "stream",
     "text": [
      "42\n"
     ]
    }
   ],
   "source": [
    "z = add_function(20, 22)\n",
    "print(z)"
   ]
  },
  {
   "cell_type": "markdown",
   "metadata": {},
   "source": [
    "**Challenge:** \n",
    "- define a new function called `subtract_function` that subtracts `d` from `c` and test on numbers of your choice"
   ]
  },
  {
   "cell_type": "markdown",
   "metadata": {},
   "source": [
    "## Wrapping up\n",
    "- make sure work is saved\n",
    "- review how to get back into notebook\n",
    "- review objectives\n",
    "- we won't be writing any more loops or functions in this course, but they are useful for understanding how python works!\n",
    "- preview next week's objectives\n",
    "- remind to sign in"
   ]
  },
  {
   "cell_type": "code",
   "execution_count": null,
   "metadata": {},
   "outputs": [],
   "source": []
  }
 ],
 "metadata": {
  "anaconda-cloud": {},
  "kernelspec": {
   "display_name": "Python 3",
   "language": "python",
   "name": "python3"
  },
  "language_info": {
   "codemirror_mode": {
    "name": "ipython",
    "version": 3
   },
   "file_extension": ".py",
   "mimetype": "text/x-python",
   "name": "python",
   "nbconvert_exporter": "python",
   "pygments_lexer": "ipython3",
   "version": "3.6.8"
  }
 },
 "nbformat": 4,
 "nbformat_minor": 4
}
