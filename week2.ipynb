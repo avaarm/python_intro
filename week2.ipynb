{
 "cells": [
  {
   "cell_type": "markdown",
   "metadata": {},
   "source": [
    "# Introduction to Python, Class 2: Starting with data"
   ]
  },
  {
   "cell_type": "markdown",
   "metadata": {},
   "source": [
    "## Objectives\n",
    "\n",
    "In the last class,\n",
    "we learned the basics of Python syntax and Jupyter notebooks,\n",
    "and examined common data types, data structures, and programming structures for Python.\n",
    "\n",
    "By the end of this lesson, you should be able to:\n",
    "\n",
    "- load packages and spreadsheet-style data using Python\n",
    "- extract columns, rows, and portions thereof from datasets\n",
    "- calculate summary statistics\n",
    "- understand the difference between referencing and copying a variable\n",
    "\n",
    "## Using packages\n",
    "\n",
    "Open your Jupyter notebook file browser,\n",
    "navigate to your project directory,\n",
    "and create a new Python notebook called `class2`\n",
    "with an appropriate title in the first cell in Markdown formatting.\n",
    "\n",
    "We'll first need to load additional packages,\n",
    "(collections of related functions)\n",
    "so the functions we'll need are available for use:"
   ]
  },
  {
   "cell_type": "code",
   "execution_count": 1,
   "metadata": {},
   "outputs": [],
   "source": [
    "# make packages available to use in this notebook\n",
    "import os\n",
    "import urllib.request\n",
    "import pandas as pd "
   ]
  },
  {
   "cell_type": "markdown",
   "metadata": {},
   "source": [
    "The packages we're using today include:\n",
    "\n",
    "- [`os`](https://docs.python.org/3/library/os.html): to create a `data` directory\n",
    "- [`urllib`](https://docs.python.org/3/library/urllib.html): for downloading files\n",
    "- [`pandas`](https://pandas.pydata.org): for data manipulation and analysis\n",
    "\n",
    "For the last package,\n",
    "`pd` is being defined as an alias, or shortcut, \n",
    "to specify we're using a function from that package.\n",
    "For the rest of this lesson, we'll preface the function in which it's been loaded."
   ]
  },
  {
   "cell_type": "markdown",
   "metadata": {},
   "source": [
    "## Importing data\n",
    "\n",
    "Before we can download our data,\n",
    "we should create a new directory to contain it:"
   ]
  },
  {
   "cell_type": "code",
   "execution_count": 2,
   "metadata": {},
   "outputs": [],
   "source": [
    "# create data directory\n",
    "os.mkdir(\"data\")"
   ]
  },
  {
   "cell_type": "markdown",
   "metadata": {},
   "source": [
    "Then we can use a function from the `urllib` package to download the data file:"
   ]
  },
  {
   "cell_type": "code",
   "execution_count": null,
   "metadata": {},
   "outputs": [],
   "source": [
    "# download dataset\n",
    "urllib.request.urlretrieve(\"https://raw.githubusercontent.com/fredhutchio/R_intro/master/extra/clinical.csv\", \"data/clinical.csv\")"
   ]
  },
  {
   "cell_type": "markdown",
   "metadata": {},
   "source": [
    "The first argument (string inside quotation marks)\n",
    "represents the URL from which the data is being downloaded.\n",
    "The second argument (\"data/clinical.csv\") indicates where the data will be saved.\n",
    "\n",
    "> If above code doesn't work, you can download the data \n",
    "as a [zip file](https://www.dropbox.com/s/k639bkse64r0bfz/data.zip),\n",
    "manually unzip it, and move the resulting folder to your project's data directory.\n",
    "\n",
    "Notice that the URL above ends in \"clinical.csv\", \n",
    "which is also the name we used to save the file on our computers.\n",
    "If you click on the URL and view it in a web browser, the format isn’t particularly easy for us to understand. \n",
    "The data we’ve downloaded are in csv format, which stands for “comma separated values.” This means the data are organized into rows and columns, with columns separated by commas.\n",
    "\n",
    "These data are arranged in a tidy format, meaning each row represents an observation, and each column represents a variable (piece of data for each observation). Moreover, only one piece of data is entered in each cell.\n",
    "\n",
    "These data are clinical cancer data from the National Cancer Institute’s Genomic Data Commons, specifically from The Cancer Genome Atlas, or TCGA.\n",
    "Each row represents a patient, and each column represents information about demographics (race, age at diagnosis, etc) and disease (e.g., cancer type).\n",
    "The data were downloaded and aggregated using a script included in the \n",
    "[Introduction to R course](https://github.com/fredhutchio/R_intro).\n",
    "\n",
    "We can import these data and assign them to a variable:"
   ]
  },
  {
   "cell_type": "code",
   "execution_count": null,
   "metadata": {},
   "outputs": [],
   "source": [
    "# assign data to variable\n",
    "clinical_df = pd.read_csv(\"data/clinical.csv\")"
   ]
  },
  {
   "cell_type": "markdown",
   "metadata": {},
   "source": [
    "The command executed successfully, \n",
    "but we still need to ensure the data have been imported correctly.\n",
    "\n",
    "There are a few ways we can inspect the data.\n",
    "First, we can preview the data:"
   ]
  },
  {
   "cell_type": "code",
   "execution_count": null,
   "metadata": {},
   "outputs": [],
   "source": [
    "# preview first few rows of the data\n",
    "clinical_df.head()"
   ]
  },
  {
   "cell_type": "markdown",
   "metadata": {},
   "source": [
    "The `head` function by default shows the the column headers,\n",
    "along with first five rows of data.\n",
    "You can specify a different number of rows by placing that number inside the parentheses, \n",
    "demonstrated below using `tail`, \n",
    "which shows the last few rows:"
   ]
  },
  {
   "cell_type": "code",
   "execution_count": null,
   "metadata": {},
   "outputs": [],
   "source": [
    "# print last eight rows of data to screen\n",
    "clinical_df.head(8) # print top n rows"
   ]
  },
  {
   "cell_type": "markdown",
   "metadata": {},
   "source": [
    "**Challenge:** Download, import, and inspect the following data files. \n",
    "The URL for each sample dataset is included along with a name to assign to the variable. \n",
    "(Hint: you can use the same function as above, but may need to update the `sep =` argument)\n",
    "\n",
    "- URL: https://raw.githubusercontent.com/fredhutchio/R_intro/master/extra/clinical.tsv, object name: example1\n",
    "- URL: https://raw.githubusercontent.com/fredhutchio/R_intro/master/extra/clinical.txt, object name: example2\n",
    "\n",
    "Importing data can be tricky and frustrating. \n",
    "However, if you can’t get your data into Python, \n",
    "you can’t do anything to analyze or visualize it. \n",
    "It’s worth understanding how to do it effectively to save you time and energy later.\n",
    "\n",
    "Now that we have data imported and available, \n",
    "we can print a summary of all column names, number of entries, data types, and non-null values:"
   ]
  },
  {
   "cell_type": "code",
   "execution_count": null,
   "metadata": {},
   "outputs": [],
   "source": [
    "# print summary\n",
    "clinical_df.info() "
   ]
  },
  {
   "cell_type": "markdown",
   "metadata": {},
   "source": [
    "The output above highlight another of the key features of `pandas`:\n",
    "it interprets data in ways that make it easier to analyze.\n",
    "\n",
    "The description at the top of this output,\n",
    "`pandas.core.frame.DataFrame`,\n",
    "describes the data structure as a data frame,\n",
    "which is how `pandas` interprets spreadsheet style data.\n",
    "Directly below that line,\n",
    "we see a note that there are 6832 observations (rows, or our case, patients or cases),\n",
    "as well as 20 columns.\n",
    "A summary of the data type for each column is below.\n",
    "\n",
    "In the last lesson,\n",
    "we discussed data types built into Python.\n",
    "`pandas` features the following data types specific to its package,\n",
    "which were implemented in our data:\n",
    "\n",
    "- `object` data in `pandas` represents string (character) data in native Python\n",
    "- `float64` is still float data (the `64` references 64 bit hardware)\n",
    "- `int64` in `pandas` isn't represented in our data, but refers to integer data \n",
    "- `datetime64` from `pandas` also isn't shown here, but refers to a specific format to make working with date and time data easier. \n",
    "\n",
    "> To create a list in a markdown cell, \n",
    "use an asterisk (`*`) or dash (`-`) followed by a space;\n",
    "these will be rendered as bullet points when you execute the cell."
   ]
  },
  {
   "cell_type": "markdown",
   "metadata": {},
   "source": [
    "## Accessing columns and rows\n",
    "\n",
    "A common task in data analysis is to extract particular columns or rows,.\n",
    "often referred to as subsetting.\n",
    "This section explores a few different ways to access these parts of our spreadsheet.\n",
    "\n",
    "First, we can subset a single column using its name (column header):"
   ]
  },
  {
   "cell_type": "code",
   "execution_count": null,
   "metadata": {},
   "outputs": [],
   "source": [
    "# show only the first few rows of one column\n",
    "clinical_df[\"tumor_stage\"].head()"
   ]
  },
  {
   "cell_type": "markdown",
   "metadata": {},
   "source": [
    "The square brackets above are a common subsetting syntax in Python.\n",
    "The quotation marks around the column name are necessary for Python to interpret it as a column,\n",
    "rather than a variable name.\n",
    "We've added `.head()` to the end so we only preview the first few rows, rather than the entire data frame.\n",
    "\n",
    "Similarly, we can assess the data type of a specific row:"
   ]
  },
  {
   "cell_type": "code",
   "execution_count": null,
   "metadata": {},
   "outputs": [],
   "source": [
    "# show data type for a column\n",
    "clinical_df[\"tumor_stage\"].dtype "
   ]
  },
  {
   "cell_type": "markdown",
   "metadata": {},
   "source": [
    "The output, `O`, \n",
    "indicates these data are object (character) type.\n",
    "\n",
    "One of the shortcuts afforded by `pandas` is the ability to treat the column names as attributes,\n",
    "which means you can access them using the `.` syntax:"
   ]
  },
  {
   "cell_type": "code",
   "execution_count": null,
   "metadata": {},
   "outputs": [],
   "source": [
    "# access columns by name using dot syntax\n",
    "clinical_df.tumor_stage.head()"
   ]
  },
  {
   "cell_type": "markdown",
   "metadata": {},
   "source": [
    "Here, we've also used `.head()` to minimize the amount of data printed to the screen.\n",
    "If you were assigning data to a new variable name, \n",
    "you would likely be using the whole column instead.\n",
    "\n",
    "If you need to extract multiple columns, \n",
    "you'll need to adjust the syntax slightly:"
   ]
  },
  {
   "cell_type": "code",
   "execution_count": null,
   "metadata": {},
   "outputs": [],
   "source": [
    "# Select two columns at once\n",
    "clinical_df[[\"tumor_stage\", \"vital_status\"]].head()"
   ]
  },
  {
   "cell_type": "markdown",
   "metadata": {},
   "source": [
    "In this case, we can't use the dot syntax to access columns.\n",
    "However, double square brackets are a common part of Python syntax.\n",
    "They reference parts of lists (a more complex data structure).\n",
    "In general, the dot syntax means you are accessing a part of the thing (generally a variable)\n",
    "that comes before the dot. \n",
    "In the case \n",
    "\n",
    "**Challenge:** does the order of the columns you list matter?\n",
    "\n",
    "We can also extract rows from a data frame:"
   ]
  },
  {
   "cell_type": "code",
   "execution_count": null,
   "metadata": {},
   "outputs": [],
   "source": [
    "# access three rows \n",
    "clinical_df[0:3]"
   ]
  },
  {
   "cell_type": "markdown",
   "metadata": {},
   "source": [
    "In the output above, \n",
    "we see three rows (index positions 0, 1, 2).\n",
    "This type of subsetting is noninclusive of the endpoint,\n",
    "meaning the row at index 3 is not selected from a range of `0:3`.\n",
    "\n",
    "We can also select a range including the end of the data frame by leaving the field after the colon empty:"
   ]
  },
  {
   "cell_type": "code",
   "execution_count": null,
   "metadata": {},
   "outputs": [],
   "source": [
    "# access the second row to the end of the data frame\n",
    "clinical_df[1:].tail()"
   ]
  },
  {
   "cell_type": "markdown",
   "metadata": {},
   "source": [
    "Again, we've used `tail` to show only the end of the data frame.\n",
    "\n",
    "We can perform a similar operation to `tail` using and index value that extracts only the last row:"
   ]
  },
  {
   "cell_type": "code",
   "execution_count": null,
   "metadata": {},
   "outputs": [],
   "source": [
    "# access the last row in the data frame\n",
    "clinical_df[-1:] "
   ]
  },
  {
   "cell_type": "markdown",
   "metadata": {},
   "source": [
    "**Challenge:** how would you extract the last 10 rows of the dataset?"
   ]
  },
  {
   "cell_type": "markdown",
   "metadata": {},
   "source": [
    "## Slicing subsets of rows and columns"
   ]
  },
  {
   "cell_type": "markdown",
   "metadata": {},
   "source": [
    "Now that we have a basic understanding of accessing whole rows and columns, \n",
    "we are ready to discuss slicing\n",
    "(extracting portions of rows and columns).\n",
    "\n",
    "There are multiple ways to slice a data frame. \n",
    "We'll begin by exploring `iloc`, \n",
    "which uses integer indexing.\n",
    "This means we'll reference rows and columns by their index position:"
   ]
  },
  {
   "cell_type": "code",
   "execution_count": null,
   "metadata": {},
   "outputs": [],
   "source": [
    "# access one data element from a single cell\n",
    "clinical_df.iloc[2, 1]"
   ]
  },
  {
   "cell_type": "markdown",
   "metadata": {},
   "source": [
    "We can check one of our previews of the data above to see that this does represent the data in that cell.\n",
    "\n",
    "As with subsetting described in the previous section,\n",
    "we can also extract ranges of cells:"
   ]
  },
  {
   "cell_type": "code",
   "execution_count": null,
   "metadata": {},
   "outputs": [],
   "source": [
    "# select range of data\n",
    "clinical_df.iloc[0:3, 1:4]"
   ]
  },
  {
   "cell_type": "markdown",
   "metadata": {},
   "source": [
    "As described earlier with subsetting using ranges of index values,\n",
    "we can see in the output above that the beginning and end bounds of the ranges are noninclusive.\n",
    "\n",
    "We can also include an empty start or stop bound to indicate the beginning or end of the data frame, respectively:"
   ]
  },
  {
   "cell_type": "code",
   "execution_count": null,
   "metadata": {},
   "outputs": [],
   "source": [
    "# empty stop boundary to indicate end of data\n",
    "clinical_df.iloc[:2, 18:]"
   ]
  },
  {
   "cell_type": "markdown",
   "metadata": {},
   "source": [
    "Now we'll move on and explore the second method for extracting slices,\n",
    "using `loc`, which stands for label indexing.\n",
    "The tricky part with our data is that the row labels are actually also the index values.\n",
    "This means that when we extract a range of rows,\n",
    "we can still reference those values:"
   ]
  },
  {
   "cell_type": "code",
   "execution_count": null,
   "metadata": {},
   "outputs": [],
   "source": [
    "# slicing using loc\n",
    "clinical_df.loc[1:4]"
   ]
  },
  {
   "cell_type": "markdown",
   "metadata": {},
   "source": [
    "Here you can note one of the major differences between `iloc` and `loc`:\n",
    "the latter has inclusive start and stop bound.\n",
    "\n",
    "We can still use empty bounds:"
   ]
  },
  {
   "cell_type": "code",
   "execution_count": null,
   "metadata": {},
   "outputs": [],
   "source": [
    "# empty stop boundary to indicate end of data\n",
    "clinical_df.loc[6830: ]"
   ]
  },
  {
   "cell_type": "markdown",
   "metadata": {},
   "source": [
    "We can also select all columns for a specific set of rows by adding the row labels as a list:"
   ]
  },
  {
   "cell_type": "code",
   "execution_count": null,
   "metadata": {},
   "outputs": [],
   "source": [
    "# Select all columns for rows of index values specified\n",
    "clinical_df.loc[[0, 10, 6831], ]"
   ]
  },
  {
   "cell_type": "markdown",
   "metadata": {},
   "source": [
    "Finally, we can use the column labels for extraction:"
   ]
  },
  {
   "cell_type": "code",
   "execution_count": null,
   "metadata": {},
   "outputs": [],
   "source": [
    "# select first row for specified columns\n",
    "clinical_df.loc[0, [\"primary_diagnosis\", \"tumor_stage\", \"age_at_diagnosis\"]]"
   ]
  },
  {
   "cell_type": "markdown",
   "metadata": {},
   "source": [
    "**Challenge:** why doesn't the following code work?\n",
    "\n",
    "`clinical_df.loc[2, 6]`\n",
    "\n",
    "**Challenge:** how would you extract the last 100 rows for only vital status and days to death?\n",
    "\n",
    "So far, we've been printing the output from our subsetting and slicing to the screen \n",
    "(often using `.head()`).\n",
    "Remember that if you'd like to use these data for another purpose,\n",
    "it's possible you may want to assign these data to a new variable to further manipulate\n",
    "(but see the section below comparing referencing and copying!)."
   ]
  },
  {
   "cell_type": "markdown",
   "metadata": {},
   "source": [
    "## Calculating summary statistics\n",
    "\n",
    "Once you've extracted your data of interest, \n",
    "you will likely want to be able to assess basic statistical features of the data.\n",
    "\n",
    "Data frames allow you to assess these features:"
   ]
  },
  {
   "cell_type": "code",
   "execution_count": null,
   "metadata": {},
   "outputs": [],
   "source": [
    "# calculate basic stats a single column\n",
    "clinical_df.age_at_diagnosis.describe()"
   ]
  },
  {
   "cell_type": "markdown",
   "metadata": {},
   "source": [
    "In this case, \n",
    "we've assessed a collection of summary statistics for the column \"age at diagnosis\" \n",
    "using the `.describe()` function.\n",
    "\n",
    "You can access the statistics listed above individually as well:"
   ]
  },
  {
   "cell_type": "code",
   "execution_count": null,
   "metadata": {},
   "outputs": [],
   "source": [
    "# calculate only the minimum for age at diagnosis\n",
    "clinical_df.age_at_diagnosis.min()"
   ]
  },
  {
   "cell_type": "markdown",
   "metadata": {},
   "source": [
    "We can also our ability to access columns to perform mathematical operations,\n",
    "such as unit conversion:"
   ]
  },
  {
   "cell_type": "code",
   "execution_count": null,
   "metadata": {},
   "outputs": [],
   "source": [
    "# convert age column from days to years\n",
    "clinical_df.age_at_diagnosis.head()/365"
   ]
  },
  {
   "cell_type": "markdown",
   "metadata": {},
   "source": [
    "We can also perform a conversion on a summary statistic:"
   ]
  },
  {
   "cell_type": "code",
   "execution_count": null,
   "metadata": {},
   "outputs": [],
   "source": [
    "# convert minimum age at diagnosis to years\n",
    "clinical_df.age_at_diagnosis.min()/365"
   ]
  },
  {
   "cell_type": "markdown",
   "metadata": {},
   "source": [
    "**Challenge:** What type of summary statistics do you get for object data?\n",
    "\n",
    "**Challenge:** How would you extract only the standard deviation for days to death?"
   ]
  },
  {
   "cell_type": "markdown",
   "metadata": {},
   "source": [
    "## Copying vs referencing\n",
    "\n",
    "In this final section, \n",
    "we'll take a look at the difference between copying and referencing objects (variables).\n",
    "\n",
    "It's often desirable to create a new variable that you can then use for data filtering.\n",
    "It is possible to reference another variable using the `=` assignment operator:"
   ]
  },
  {
   "cell_type": "code",
   "execution_count": null,
   "metadata": {},
   "outputs": [],
   "source": [
    "# reference another object\n",
    "ref_clinical_df = clinical_df\n",
    "ref_clinical_df.head()"
   ]
  },
  {
   "cell_type": "markdown",
   "metadata": {},
   "source": [
    "If you inspect both objects,\n",
    "you'll see they're identical.\n",
    "\n",
    "Next, we'll use the `copy` method to create a new object:"
   ]
  },
  {
   "cell_type": "code",
   "execution_count": null,
   "metadata": {},
   "outputs": [],
   "source": [
    "# create another object using copy\n",
    "true_copy_clinical_df = clinical_df.copy()\n",
    "true_copy_clinical_df.head()"
   ]
  },
  {
   "cell_type": "markdown",
   "metadata": {},
   "source": [
    "Now we have a few objects to compare.\n",
    "\n",
    "We'll assess how these objects change by making a clear, obvious change in the referenced data frame.\n",
    "This isn't something you'd necessarily want to do in your own data,\n",
    "but is a way for us to quickly see what happens to the other objects:"
   ]
  },
  {
   "cell_type": "code",
   "execution_count": null,
   "metadata": {},
   "outputs": [],
   "source": [
    "# assign the value `0` to the first three rows of data\n",
    "ref_clinical_df[0:3] = 0\n",
    "ref_clinical_df.head()"
   ]
  },
  {
   "cell_type": "markdown",
   "metadata": {},
   "source": [
    "**Challenge:** What has happened to each of our three objects?\n",
    "\n",
    "- `true_copy_clinical_df`, created from the original data frame using `copy`\n",
    "- `ref_clinical_df`, for which the first three rows have been changed to 0\n",
    "- `clinical_df`, which is the original data frame\n",
    "\n",
    "Remember, referencing objects does not protect the original object from modification,\n",
    "because the `=` creates another name for the same object.\n",
    "Using the `copy` method allows you to retain the original object in its unaltered state."
   ]
  },
  {
   "cell_type": "markdown",
   "metadata": {},
   "source": [
    "## Wrapping up\n",
    "\n",
    "Today, we imported spreadsheet-style data into Python,\n",
    "learned to inspect and subset the resulting data frame,\n",
    "as well as calculate summary statistics and copy/reference objects (variables).\n",
    "\n",
    "Next time, we'll work on additional types of data manipulation,\n",
    "including extracting data that meet particular criteria\n",
    "and dealing with missing data."
   ]
  }
 ],
 "metadata": {
  "anaconda-cloud": {},
  "kernelspec": {
   "display_name": "Python 3",
   "language": "python",
   "name": "python3"
  },
  "language_info": {
   "codemirror_mode": {
    "name": "ipython",
    "version": 3
   },
   "file_extension": ".py",
   "mimetype": "text/x-python",
   "name": "python",
   "nbconvert_exporter": "python",
   "pygments_lexer": "ipython3",
   "version": "3.6.8"
  }
 },
 "nbformat": 4,
 "nbformat_minor": 4
}
