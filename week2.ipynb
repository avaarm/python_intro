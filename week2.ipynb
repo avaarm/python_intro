{
 "cells": [
  {
   "cell_type": "markdown",
   "metadata": {},
   "source": [
    "# Introduction to Python, Class 2: Starting with data"
   ]
  },
  {
   "cell_type": "markdown",
   "metadata": {},
   "source": [
    "## Objectives\n",
    "\n",
    "In the last class,\n",
    "we learned the basics of Python syntax and Jupyter notebooks,\n",
    "and examined common data types, data structures, and programming structures for Python.\n",
    "\n",
    "By the end of this lesson, you should be able to:\n",
    "\n",
    "- load packages and spreadsheet-style data using Python\n",
    "- extract columns, rows, and portions thereof from datasets\n",
    "- calculate summary statistics\n",
    "- understand the difference between referencing and copying a variable\n",
    "\n",
    "## Using packages\n",
    "\n",
    "Open your Jupyter notebook file browser,\n",
    "navigate to your project directory,\n",
    "and create a new Python notebook called `class2`\n",
    "with an appropriate title in the first cell in Markdown formatting.\n",
    "\n",
    "We'll first need to load additional packages,\n",
    "(collections of related functions)\n",
    "so the functions we'll need are available for use:"
   ]
  },
  {
   "cell_type": "code",
   "execution_count": 3,
   "metadata": {},
   "outputs": [],
   "source": [
    "# make packages available to use in this notebook\n",
    "import os\n",
    "import urllib.request\n",
    "import pandas as pd "
   ]
  },
  {
   "cell_type": "markdown",
   "metadata": {},
   "source": [
    "The packages we're using today include:\n",
    "\n",
    "- [`os`](https://docs.python.org/3/library/os.html): to create a `data` directory\n",
    "- [`urllib`](https://docs.python.org/3/library/urllib.html): for downloading files\n",
    "- [`pandas`](https://pandas.pydata.org): for data manipulation and analysis\n",
    "\n",
    "For the last package,\n",
    "`pd` is being defined as an alias, or shortcut, \n",
    "to specify we're using a function from that package.\n",
    "For the rest of this lesson, we'll preface the function in which it's been loaded."
   ]
  },
  {
   "cell_type": "markdown",
   "metadata": {},
   "source": [
    "## Importing data\n",
    "\n",
    "Before we can download our data,\n",
    "we should create a new directory to contain it:"
   ]
  },
  {
   "cell_type": "code",
   "execution_count": 4,
   "metadata": {
    "collapsed": true
   },
   "outputs": [
    {
     "ename": "FileExistsError",
     "evalue": "[Errno 17] File exists: 'data'",
     "output_type": "error",
     "traceback": [
      "\u001b[0;31m---------------------------------------------------------------------------\u001b[0m",
      "\u001b[0;31mFileExistsError\u001b[0m                           Traceback (most recent call last)",
      "\u001b[0;32m<ipython-input-4-23a86202796a>\u001b[0m in \u001b[0;36m<module>\u001b[0;34m()\u001b[0m\n\u001b[1;32m      1\u001b[0m \u001b[0;31m# create data directory\u001b[0m\u001b[0;34m\u001b[0m\u001b[0;34m\u001b[0m\u001b[0;34m\u001b[0m\u001b[0m\n\u001b[0;32m----> 2\u001b[0;31m \u001b[0mos\u001b[0m\u001b[0;34m.\u001b[0m\u001b[0mmkdir\u001b[0m\u001b[0;34m(\u001b[0m\u001b[0;34m\"data\"\u001b[0m\u001b[0;34m)\u001b[0m\u001b[0;34m\u001b[0m\u001b[0;34m\u001b[0m\u001b[0m\n\u001b[0m",
      "\u001b[0;31mFileExistsError\u001b[0m: [Errno 17] File exists: 'data'"
     ]
    }
   ],
   "source": [
    "# create data directory\n",
    "os.mkdir(\"data\")"
   ]
  },
  {
   "cell_type": "markdown",
   "metadata": {},
   "source": [
    "Then we can use a function from the `urllib` package to download the data file:"
   ]
  },
  {
   "cell_type": "code",
   "execution_count": null,
   "metadata": {},
   "outputs": [],
   "source": [
    "# download dataset\n",
    "urllib.request.urlretrieve(\"https://raw.githubusercontent.com/fredhutchio/R_intro/master/extra/clinical.csv\", \"data/clinical.csv\")"
   ]
  },
  {
   "cell_type": "markdown",
   "metadata": {},
   "source": [
    "The first argument (string inside quotation marks)\n",
    "represents the URL from which the data is being downloaded.\n",
    "The second argument (\"data/clinical.csv\") indicates where the data will be saved.\n",
    "\n",
    "> If above code doesn't work, you can download the data \n",
    "as a [zip file](https://www.dropbox.com/s/k639bkse64r0bfz/data.zip),\n",
    "manually unzip it, and move the resulting folder to your project's data directory.\n",
    "\n",
    "Notice that the URL above ends in \"clinical.csv\", \n",
    "which is also the name we used to save the file on our computers.\n",
    "If you click on the URL and view it in a web browser, the format isn’t particularly easy for us to understand. \n",
    "The data we’ve downloaded are in csv format, which stands for “comma separated values.” This means the data are organized into rows and columns, with columns separated by commas.\n",
    "\n",
    "These data are arranged in a tidy format, meaning each row represents an observation, and each column represents a variable (piece of data for each observation). Moreover, only one piece of data is entered in each cell.\n",
    "\n",
    "These data are clinical cancer data from the National Cancer Institute’s Genomic Data Commons, specifically from The Cancer Genome Atlas, or TCGA.\n",
    "Each row represents a patient, and each column represents information about demographics (race, age at diagnosis, etc) and disease (e.g., cancer type).\n",
    "The data were downloaded and aggregated using a script included in the \n",
    "[Introduction to R course](https://github.com/fredhutchio/R_intro).\n",
    "\n",
    "We can import these data and assign them to a variable:"
   ]
  },
  {
   "cell_type": "code",
   "execution_count": null,
   "metadata": {},
   "outputs": [],
   "source": [
    "# assign data to variable\n",
    "clinical_df = pd.read_csv(\"data/clinical.csv\")"
   ]
  },
  {
   "cell_type": "markdown",
   "metadata": {},
   "source": [
    "The command executed successfully, \n",
    "but we still need to ensure the data have been imported correctly.\n",
    "\n",
    "There are a few ways we can inspect the data.\n",
    "First, we can preview the data:"
   ]
  },
  {
   "cell_type": "code",
   "execution_count": null,
   "metadata": {},
   "outputs": [],
   "source": [
    "# preview first few rows of the data\n",
    "clinical_df.head()"
   ]
  },
  {
   "cell_type": "markdown",
   "metadata": {},
   "source": [
    "The `head` function by default shows the the column headers,\n",
    "along with first five rows of data.\n",
    "You can specify a different number of rows by placing that number inside the parentheses, \n",
    "demonstrated below using `tail`, \n",
    "which shows the last few rows:"
   ]
  },
  {
   "cell_type": "code",
   "execution_count": null,
   "metadata": {},
   "outputs": [],
   "source": [
    "# print last eight rows of data to screen\n",
    "clinical_df.head(8) # print top n rows"
   ]
  },
  {
   "cell_type": "markdown",
   "metadata": {},
   "source": [
    "**Challenge:** Download, import, and inspect the following data files. \n",
    "The URL for each sample dataset is included along with a name to assign to the variable. \n",
    "(Hint: you can use the same function as above, but may need to update the `sep =` argument)\n",
    "\n",
    "- URL: https://raw.githubusercontent.com/fredhutchio/R_intro/master/extra/clinical.tsv, object name: example1\n",
    "- URL: https://raw.githubusercontent.com/fredhutchio/R_intro/master/extra/clinical.txt, object name: example2\n",
    "\n",
    "Importing data can be tricky and frustrating. \n",
    "However, if you can’t get your data into Python, \n",
    "you can’t do anything to analyze or visualize it. \n",
    "It’s worth understanding how to do it effectively to save you time and energy later.\n",
    "\n",
    "Now that we have data imported and available, \n",
    "we can print a summary of all column names, number of entries, data types, and non-null values:"
   ]
  },
  {
   "cell_type": "code",
   "execution_count": null,
   "metadata": {},
   "outputs": [],
   "source": [
    "# print summary\n",
    "clinical_df.info() "
   ]
  },
  {
   "cell_type": "markdown",
   "metadata": {},
   "source": [
    "The output above highlight another of the key features of `pandas`:\n",
    "it interprets data in ways that make it easier to analyze.\n",
    "\n",
    "The description at the top of this output,\n",
    "`pandas.core.frame.DataFrame`,\n",
    "describes the data structure as a data frame,\n",
    "which is how `pandas` interprets spreadsheet style data.\n",
    "Directly below that line,\n",
    "we see a note that there are 6832 observations (rows, or our case, patients or cases),\n",
    "as well as 20 columns.\n",
    "A summary of the data type for each column is below.\n",
    "\n",
    "In the last lesson,\n",
    "we discussed data types built into Python.\n",
    "`pandas` features the following data types specific to its package,\n",
    "which were implemented in our data:\n",
    "\n",
    "- `object` data in `pandas` represents string (character) data in native Python\n",
    "- `float64` is still float data (the `64` references 64 bit hardware)\n",
    "- `int64` in `pandas` isn't represented in our data, but refers to integer data \n",
    "- `datetime64` from `pandas` also isn't shown here, but refers to a specific format to make working with date and time data easier. \n",
    "\n",
    "> To create a list in a markdown cell, \n",
    "use an asterisk (`*`) or dash (`-`) followed by a space;\n",
    "these will be rendered as bullet points when you execute the cell."
   ]
  },
  {
   "cell_type": "markdown",
   "metadata": {},
   "source": [
    "## Accessing columns and rows\n",
    "\n",
    "A common task in data analysis is to extract particular columns or rows,.\n",
    "often referred to as subsetting.\n",
    "This section explores a few different ways to access these parts of our spreadsheet.\n",
    "\n",
    "First, we can subset a single column using its name (column header):"
   ]
  },
  {
   "cell_type": "code",
   "execution_count": null,
   "metadata": {},
   "outputs": [],
   "source": [
    "# show only the first few rows of one column\n",
    "clinical_df[\"tumor_stage\"].head()"
   ]
  },
  {
   "cell_type": "markdown",
   "metadata": {},
   "source": [
    "The square brackets above are a common subsetting syntax in Python.\n",
    "The quotation marks around the column name are necessary for Python to interpret it as a column,\n",
    "rather than a variable name.\n",
    "We've added `.head()` to the end so we only preview the first few rows, rather than the entire data frame.\n",
    "\n",
    "Similarly, we can assess the data type of a specific row:"
   ]
  },
  {
   "cell_type": "code",
   "execution_count": null,
   "metadata": {},
   "outputs": [],
   "source": [
    "# show data type for a column\n",
    "clinical_df[\"tumor_stage\"].dtype "
   ]
  },
  {
   "cell_type": "markdown",
   "metadata": {},
   "source": [
    "The output, `O`, \n",
    "indicates these data are object (character) type.\n",
    "\n",
    "One of the shortcuts afforded by `pandas` is the ability to treat the column names as attributes,\n",
    "which means you can access them using the `.` syntax:"
   ]
  },
  {
   "cell_type": "code",
   "execution_count": null,
   "metadata": {},
   "outputs": [],
   "source": [
    "# access columns by name using dot syntax\n",
    "clinical_df.tumor_stage.head()"
   ]
  },
  {
   "cell_type": "markdown",
   "metadata": {},
   "source": [
    "Here, we've also used `.head()` to minimize the amount of data printed to the screen.\n",
    "If you were assigning data to a new variable name, \n",
    "you would likely be using the whole column instead.\n",
    "\n",
    "If you need to extract multiple columns, \n",
    "you'll need to adjust the syntax slightly:"
   ]
  },
  {
   "cell_type": "code",
   "execution_count": null,
   "metadata": {},
   "outputs": [],
   "source": [
    "# Select two columns at once\n",
    "clinical_df[[\"tumor_stage\", \"vital_status\"]].head()"
   ]
  },
  {
   "cell_type": "markdown",
   "metadata": {},
   "source": [
    "In this case, we can't use the dot syntax to access columns.\n",
    "However, double square brackets are a common part of Python syntax.\n",
    "They reference parts of lists (a more complex data structure).\n",
    "In general, the dot syntax means you are accessing a part of the thing (generally a variable)\n",
    "that comes before the dot. \n",
    "In the case \n",
    "\n",
    "**Challenge:** does the order of the columns you list matter?\n",
    "\n",
    "We can also extract rows from a data frame:"
   ]
  },
  {
   "cell_type": "code",
   "execution_count": null,
   "metadata": {},
   "outputs": [],
   "source": [
    "# access three rows \n",
    "clinical_df[0:3]"
   ]
  },
  {
   "cell_type": "markdown",
   "metadata": {},
   "source": [
    "In the output above, \n",
    "we see three rows (index positions 0, 1, 2).\n",
    "This type of subsetting is noninclusive of the endpoint,\n",
    "meaning the row at index 3 is not selected from a range of `0:3`.\n",
    "\n",
    "We can also select a range including the end of the data frame by leaving the field after the colon empty:"
   ]
  },
  {
   "cell_type": "code",
   "execution_count": null,
   "metadata": {},
   "outputs": [],
   "source": [
    "# access the second row to the end of the data frame\n",
    "clinical_df[1:].tail()"
   ]
  },
  {
   "cell_type": "markdown",
   "metadata": {},
   "source": [
    "Again, we've used `tail` to show only the end of the data frame.\n",
    "\n",
    "We can perform a similar operation to `tail` using and index value that extracts only the last row:"
   ]
  },
  {
   "cell_type": "code",
   "execution_count": null,
   "metadata": {},
   "outputs": [],
   "source": [
    "# access the last row in the data frame\n",
    "clinical_df[-1:] "
   ]
  },
  {
   "cell_type": "markdown",
   "metadata": {},
   "source": [
    "**Challenge:** how would you extract the last 10 rows of the dataset?"
   ]
  },
  {
   "cell_type": "markdown",
   "metadata": {},
   "source": [
    "## Slicing subsets of rows and columns"
   ]
  },
  {
   "cell_type": "code",
   "execution_count": null,
   "metadata": {},
   "outputs": [],
   "source": [
    "# iloc is integer indexing [row slicing, column slicing]\n",
    "# locate specific data element\n",
    "clinical_df.iloc[2, 6]"
   ]
  },
  {
   "cell_type": "code",
   "execution_count": null,
   "metadata": {},
   "outputs": [],
   "source": [
    "# select range of data\n",
    "clinical_df.iloc[0:3, 1:4]"
   ]
  },
  {
   "cell_type": "code",
   "execution_count": null,
   "metadata": {},
   "outputs": [],
   "source": [
    "# stop/end bound is NOT inclusive (e.g., up to but not including 3)\n",
    "# can use empty stop boundary to indicate end of data\n",
    "clinical_df.iloc[0:, 1:4]"
   ]
  },
  {
   "cell_type": "code",
   "execution_count": null,
   "metadata": {},
   "outputs": [],
   "source": [
    "# loc is for label indexing (integers interpreted as labels)\n",
    "# start and stop bound are inclusive\n",
    "clinical_df.loc[1:4]"
   ]
  },
  {
   "cell_type": "code",
   "execution_count": null,
   "metadata": {},
   "outputs": [],
   "source": [
    "# can use empty stop boundary to indicate end of data\n",
    "clinical_df.loc[1: ]"
   ]
  },
  {
   "cell_type": "code",
   "execution_count": null,
   "metadata": {},
   "outputs": [],
   "source": [
    "# Select all columns for rows of index values specified\n",
    "clinical_df.loc[[0, 10, 6831], ]"
   ]
  },
  {
   "cell_type": "code",
   "execution_count": null,
   "metadata": {},
   "outputs": [],
   "source": [
    "# select first row for specified columns\n",
    "clinical_df.loc[0, [\"primary_diagnosis\", \"tumor_stage\", \"age_at_diagnosis\"]]"
   ]
  },
  {
   "cell_type": "markdown",
   "metadata": {},
   "source": [
    "**Challenge:** why doesn't the following code work?\n",
    "\n",
    "`clinical_df.loc[2, 6]`"
   ]
  },
  {
   "cell_type": "markdown",
   "metadata": {},
   "source": [
    "**Challenge:** how would you extract the last 100 rows for only vital status and days to death?"
   ]
  },
  {
   "cell_type": "code",
   "execution_count": null,
   "metadata": {},
   "outputs": [],
   "source": [
    "clinical_df.loc[6732:, [\"vital_status\", \"days_to_death\"]]"
   ]
  },
  {
   "cell_type": "code",
   "execution_count": null,
   "metadata": {},
   "outputs": [],
   "source": [
    "clinical_df.iloc[-100:, [3,5]]"
   ]
  },
  {
   "cell_type": "code",
   "execution_count": null,
   "metadata": {},
   "outputs": [],
   "source": [
    "clinical_df.info()\n",
    "# Say you have a dataframe with a lot of columns and you want to grab alot of them\n",
    "# for your analysis but not all. You can use numpy's R_ to make it easer\n",
    "\n",
    "import numpy as np # imports numpy and aliases it as \"np\"\n",
    "# Now say you want to get all the rows and columns but 'bcr_patient_barcode'\n",
    "\n",
    "# clinical_df.iloc[0:, 0:18, 19:20] # this WONT work\n",
    "clinical_df.iloc[0:, np.r_[0:18, 19:20] ] # but this does\n",
    "\n",
    "# We are using numpy's R- which translates slice objects to concatenate along the first axis\n",
    "np.r_[0:18, 19:20] # this takes the slices objects and makes an array\n",
    "\n",
    "# You can then pass that array to iloc like so:\n",
    "clinical_df.iloc[0:, np.r_[0:18, 19:20] ].head()\n",
    "# This is just an easy way to quickly wrangle large dataframes by columns if need be\n",
    "\n",
    "# You can also employ this when reading in files as dataframes using the `usecols` parameter like so\n",
    "#pd.read_csv(\"data/clinical.txt\", sep=\" \", usecols=np.r_[0:18, 19:20])"
   ]
  },
  {
   "cell_type": "markdown",
   "metadata": {},
   "source": [
    "## Calculating summary statistics"
   ]
  },
  {
   "cell_type": "code",
   "execution_count": null,
   "metadata": {},
   "outputs": [],
   "source": [
    "# calculate basic stats for all records in single column\n",
    "clinical_df.age_at_diagnosis.describe()"
   ]
  },
  {
   "cell_type": "code",
   "execution_count": null,
   "metadata": {},
   "outputs": [],
   "source": [
    "# each metric one at a time (only prints last if all executed in one cell!)\n",
    "clinical_df.age_at_diagnosis.min()"
   ]
  },
  {
   "cell_type": "code",
   "execution_count": null,
   "metadata": {},
   "outputs": [],
   "source": [
    "# convert columns\n",
    "clinical_df.age_at_diagnosis/365"
   ]
  },
  {
   "cell_type": "code",
   "execution_count": null,
   "metadata": {},
   "outputs": [],
   "source": [
    "# convert min to days\n",
    "clinical_df.age_at_diagnosis.min()/365"
   ]
  },
  {
   "cell_type": "code",
   "execution_count": null,
   "metadata": {},
   "outputs": [],
   "source": [
    "## Challenge: What type of summary stats do you get for object data?\n",
    "clinical_df.site_of_resection_or_biopsy.describe()"
   ]
  },
  {
   "cell_type": "code",
   "execution_count": null,
   "metadata": {},
   "outputs": [],
   "source": [
    "## Challenge: How would you extract only the standard deviation for days to death?\n",
    "clinical_df.days_to_death.std()"
   ]
  },
  {
   "cell_type": "markdown",
   "metadata": {},
   "source": [
    "## Copying vs referencing objects"
   ]
  },
  {
   "cell_type": "code",
   "execution_count": null,
   "metadata": {},
   "outputs": [],
   "source": [
    "# Using the \"=\" operator references the previous object\n",
    "ref_clinical_df = clinical_df\n",
    "ref_clinical_df"
   ]
  },
  {
   "cell_type": "code",
   "execution_count": null,
   "metadata": {},
   "outputs": [],
   "source": [
    "# Using the \"copy() method\": actually creates another object\n",
    "true_copy_clinical_df = clinical_df.copy()\n",
    "true_copy_clinical_df"
   ]
  },
  {
   "cell_type": "code",
   "execution_count": null,
   "metadata": {},
   "outputs": [],
   "source": [
    "# Assign the value `0` to the first three rows of data in the DataFrame\n",
    "ref_clinical_df[0:3] = 0\n",
    "ref_clinical_df.head()\n",
    "# note: you probably wouldn't want to actually *do* this to your data!"
   ]
  },
  {
   "cell_type": "markdown",
   "metadata": {},
   "source": [
    "**Challenge:** How and why are the following three objects different?\n"
   ]
  },
  {
   "cell_type": "code",
   "execution_count": null,
   "metadata": {},
   "outputs": [],
   "source": [
    "clinical_df.head() # has been modified because ref_clinical_df referenced it"
   ]
  },
  {
   "cell_type": "code",
   "execution_count": null,
   "metadata": {},
   "outputs": [],
   "source": [
    "ref_clinical_df.head() # was actually altered"
   ]
  },
  {
   "cell_type": "code",
   "execution_count": null,
   "metadata": {},
   "outputs": [],
   "source": [
    "true_copy_clinical_df.head() # actual copy of original, unaltered\n",
    "# reinforce that the order of operations matters!"
   ]
  },
  {
   "cell_type": "markdown",
   "metadata": {},
   "source": [
    "## Wrapping up\n",
    "- review objectives\n",
    "- preview next week's objectives\n",
    "- demo of spyder IDE, if time allows"
   ]
  },
  {
   "cell_type": "code",
   "execution_count": null,
   "metadata": {},
   "outputs": [],
   "source": []
  }
 ],
 "metadata": {
  "anaconda-cloud": {},
  "kernelspec": {
   "display_name": "Python 3",
   "language": "python",
   "name": "python3"
  },
  "language_info": {
   "codemirror_mode": {
    "name": "ipython",
    "version": 3
   },
   "file_extension": ".py",
   "mimetype": "text/x-python",
   "name": "python",
   "nbconvert_exporter": "python",
   "pygments_lexer": "ipython3",
   "version": "3.6.8"
  }
 },
 "nbformat": 4,
 "nbformat_minor": 4
}
