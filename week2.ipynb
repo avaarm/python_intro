{
 "cells": [
  {
   "cell_type": "markdown",
   "metadata": {},
   "source": [
    "# Introduction to Python, Class 2: Starting with data"
   ]
  },
  {
   "cell_type": "markdown",
   "metadata": {},
   "source": [
    "## Objectives\n",
    "\n",
    "In the last class,\n",
    "we learned the basics of Python syntax and Jupyter notebooks,\n",
    "and examined common data types, data structures, and programming structures for Python.\n",
    "\n",
    "By the end of this lesson, you should be able to:\n",
    "\n",
    "- load packages and spreadsheet-style data using Python\n",
    "- extract columns, rows, and portions thereof from datasets\n",
    "- calculate summary statistics\n",
    "- understand the difference between referencing and copying a variable\n",
    "\n",
    "## Using packages\n",
    "\n",
    "Open your Jupyter notebook file browser,\n",
    "navigate to your project directory,\n",
    "and create a new Python notebook called `class2`\n",
    "with an appropriate title in the first cell in Markdown formatting.\n",
    "\n",
    "We'll first need to load additional packages,\n",
    "(collections of related functions)\n",
    "so the functions we'll need are available for use:"
   ]
  },
  {
   "cell_type": "code",
   "execution_count": 7,
   "metadata": {},
   "outputs": [],
   "source": [
    "# make packages available to use in this notebook\n",
    "import os\n",
    "import urllib.request\n",
    "import pandas as pd "
   ]
  },
  {
   "cell_type": "markdown",
   "metadata": {},
   "source": [
    "The packages we're using today include:\n",
    "\n",
    "- [`os`](https://docs.python.org/3/library/os.html): to create a `data` directory\n",
    "- [`urllib`](https://docs.python.org/3/library/urllib.html): for downloading files\n",
    "- [`pandas`](https://pandas.pydata.org): for data manipulation and analysis\n",
    "\n",
    "For the last package,\n",
    "`pd` is being defined as an alias, or shortcut, \n",
    "to specify we're using a function from that package.\n",
    "For the rest of this lesson, we'll preface the function in which it's been loaded."
   ]
  },
  {
   "cell_type": "markdown",
   "metadata": {},
   "source": [
    "## Importing data\n",
    "\n",
    "Before we can download our data,\n",
    "we should create a new directory to contain it:"
   ]
  },
  {
   "cell_type": "code",
   "execution_count": 8,
   "metadata": {},
   "outputs": [],
   "source": [
    "# create data directory\n",
    "os.mkdir(\"data\")"
   ]
  },
  {
   "cell_type": "markdown",
   "metadata": {},
   "source": [
    "Then we can use a function from the `urllib` package to download the data file:"
   ]
  },
  {
   "cell_type": "code",
   "execution_count": 9,
   "metadata": {},
   "outputs": [
    {
     "data": {
      "text/plain": [
       "('data/clinical.csv', <http.client.HTTPMessage at 0x1075130b8>)"
      ]
     },
     "execution_count": 9,
     "metadata": {},
     "output_type": "execute_result"
    }
   ],
   "source": [
    "# download dataset\n",
    "urllib.request.urlretrieve(\"https://raw.githubusercontent.com/fredhutchio/R_intro/master/extra/clinical.csv\", \"data/clinical.csv\")"
   ]
  },
  {
   "cell_type": "markdown",
   "metadata": {},
   "source": [
    "The first argument (string inside quotation marks)\n",
    "represents the URL from which the data is being downloaded.\n",
    "The second argument (\"data/clinical.csv\") indicates where the data will be saved.\n",
    "\n",
    "> If above code doesn't work, you can download the data \n",
    "as a [zip file](https://www.dropbox.com/s/k639bkse64r0bfz/data.zip),\n",
    "manually unzip it, and move the resulting folder to your project's data directory.\n",
    "\n",
    "Notice that the URL above ends in \"clinical.csv\", \n",
    "which is also the name we used to save the file on our computers.\n",
    "If you click on the URL and view it in a web browser, the format isn’t particularly easy for us to understand. \n",
    "The data we’ve downloaded are in csv format, which stands for “comma separated values.” This means the data are organized into rows and columns, with columns separated by commas.\n",
    "\n",
    "These data are arranged in a tidy format, meaning each row represents an observation, and each column represents a variable (piece of data for each observation). Moreover, only one piece of data is entered in each cell.\n",
    "\n",
    "These data are clinical cancer data from the National Cancer Institute’s Genomic Data Commons, specifically from The Cancer Genome Atlas, or TCGA.\n",
    "Each row represents a patient, and each column represents information about demographics (race, age at diagnosis, etc) and disease (e.g., cancer type).\n",
    "The data were downloaded and aggregated using a script included in the \n",
    "[Introduction to R course](https://github.com/fredhutchio/R_intro).\n",
    "\n",
    "We can import these data and assign them to a variable:"
   ]
  },
  {
   "cell_type": "code",
   "execution_count": 10,
   "metadata": {},
   "outputs": [],
   "source": [
    "# assign data to variable\n",
    "clinical_df = pd.read_csv(\"data/clinical.csv\")"
   ]
  },
  {
   "cell_type": "markdown",
   "metadata": {},
   "source": [
    "The command executed successfully, \n",
    "but we still need to ensure the data have been imported correctly.\n",
    "\n",
    "There are a few ways we can inspect the data.\n",
    "First, we can preview the data:"
   ]
  },
  {
   "cell_type": "code",
   "execution_count": 15,
   "metadata": {},
   "outputs": [
    {
     "data": {
      "text/html": [
       "<div>\n",
       "<style scoped>\n",
       "    .dataframe tbody tr th:only-of-type {\n",
       "        vertical-align: middle;\n",
       "    }\n",
       "\n",
       "    .dataframe tbody tr th {\n",
       "        vertical-align: top;\n",
       "    }\n",
       "\n",
       "    .dataframe thead th {\n",
       "        text-align: right;\n",
       "    }\n",
       "</style>\n",
       "<table border=\"1\" class=\"dataframe\">\n",
       "  <thead>\n",
       "    <tr style=\"text-align: right;\">\n",
       "      <th></th>\n",
       "      <th>primary_diagnosis</th>\n",
       "      <th>tumor_stage</th>\n",
       "      <th>age_at_diagnosis</th>\n",
       "      <th>vital_status</th>\n",
       "      <th>morphology</th>\n",
       "      <th>days_to_death</th>\n",
       "      <th>state</th>\n",
       "      <th>tissue_or_organ_of_origin</th>\n",
       "      <th>days_to_birth</th>\n",
       "      <th>site_of_resection_or_biopsy</th>\n",
       "      <th>days_to_last_follow_up</th>\n",
       "      <th>cigarettes_per_day</th>\n",
       "      <th>years_smoked</th>\n",
       "      <th>gender</th>\n",
       "      <th>year_of_birth</th>\n",
       "      <th>race</th>\n",
       "      <th>ethnicity</th>\n",
       "      <th>year_of_death</th>\n",
       "      <th>bcr_patient_barcode</th>\n",
       "      <th>disease</th>\n",
       "    </tr>\n",
       "  </thead>\n",
       "  <tbody>\n",
       "    <tr>\n",
       "      <th>0</th>\n",
       "      <td>C34.1</td>\n",
       "      <td>stage ia</td>\n",
       "      <td>24477.0</td>\n",
       "      <td>dead</td>\n",
       "      <td>8070/3</td>\n",
       "      <td>371.0</td>\n",
       "      <td>live</td>\n",
       "      <td>C34.1</td>\n",
       "      <td>-24477.0</td>\n",
       "      <td>C34.1</td>\n",
       "      <td>NaN</td>\n",
       "      <td>10.958904</td>\n",
       "      <td>NaN</td>\n",
       "      <td>male</td>\n",
       "      <td>1936.0</td>\n",
       "      <td>white</td>\n",
       "      <td>not hispanic or latino</td>\n",
       "      <td>2004.0</td>\n",
       "      <td>TCGA-18-3406</td>\n",
       "      <td>LUSC</td>\n",
       "    </tr>\n",
       "    <tr>\n",
       "      <th>1</th>\n",
       "      <td>C34.1</td>\n",
       "      <td>stage ib</td>\n",
       "      <td>26615.0</td>\n",
       "      <td>dead</td>\n",
       "      <td>8070/3</td>\n",
       "      <td>136.0</td>\n",
       "      <td>live</td>\n",
       "      <td>C34.1</td>\n",
       "      <td>-26615.0</td>\n",
       "      <td>C34.1</td>\n",
       "      <td>NaN</td>\n",
       "      <td>2.191781</td>\n",
       "      <td>NaN</td>\n",
       "      <td>male</td>\n",
       "      <td>1931.0</td>\n",
       "      <td>asian</td>\n",
       "      <td>not hispanic or latino</td>\n",
       "      <td>2003.0</td>\n",
       "      <td>TCGA-18-3407</td>\n",
       "      <td>LUSC</td>\n",
       "    </tr>\n",
       "    <tr>\n",
       "      <th>2</th>\n",
       "      <td>C34.3</td>\n",
       "      <td>stage ib</td>\n",
       "      <td>28171.0</td>\n",
       "      <td>dead</td>\n",
       "      <td>8070/3</td>\n",
       "      <td>2304.0</td>\n",
       "      <td>live</td>\n",
       "      <td>C34.3</td>\n",
       "      <td>-28171.0</td>\n",
       "      <td>C34.3</td>\n",
       "      <td>2099.0</td>\n",
       "      <td>1.643836</td>\n",
       "      <td>NaN</td>\n",
       "      <td>female</td>\n",
       "      <td>1927.0</td>\n",
       "      <td>white</td>\n",
       "      <td>not hispanic or latino</td>\n",
       "      <td>NaN</td>\n",
       "      <td>TCGA-18-3408</td>\n",
       "      <td>LUSC</td>\n",
       "    </tr>\n",
       "    <tr>\n",
       "      <th>3</th>\n",
       "      <td>C34.1</td>\n",
       "      <td>stage ia</td>\n",
       "      <td>27154.0</td>\n",
       "      <td>alive</td>\n",
       "      <td>8083/3</td>\n",
       "      <td>NaN</td>\n",
       "      <td>live</td>\n",
       "      <td>C34.1</td>\n",
       "      <td>-27154.0</td>\n",
       "      <td>C34.1</td>\n",
       "      <td>3747.0</td>\n",
       "      <td>1.095890</td>\n",
       "      <td>NaN</td>\n",
       "      <td>male</td>\n",
       "      <td>1930.0</td>\n",
       "      <td>white</td>\n",
       "      <td>not hispanic or latino</td>\n",
       "      <td>NaN</td>\n",
       "      <td>TCGA-18-3409</td>\n",
       "      <td>LUSC</td>\n",
       "    </tr>\n",
       "    <tr>\n",
       "      <th>4</th>\n",
       "      <td>C34.3</td>\n",
       "      <td>stage iib</td>\n",
       "      <td>29827.0</td>\n",
       "      <td>dead</td>\n",
       "      <td>8070/3</td>\n",
       "      <td>146.0</td>\n",
       "      <td>live</td>\n",
       "      <td>C34.3</td>\n",
       "      <td>-29827.0</td>\n",
       "      <td>C34.3</td>\n",
       "      <td>NaN</td>\n",
       "      <td>NaN</td>\n",
       "      <td>NaN</td>\n",
       "      <td>male</td>\n",
       "      <td>1923.0</td>\n",
       "      <td>not reported</td>\n",
       "      <td>not reported</td>\n",
       "      <td>2004.0</td>\n",
       "      <td>TCGA-18-3410</td>\n",
       "      <td>LUSC</td>\n",
       "    </tr>\n",
       "  </tbody>\n",
       "</table>\n",
       "</div>"
      ],
      "text/plain": [
       "  primary_diagnosis tumor_stage  age_at_diagnosis vital_status morphology  \\\n",
       "0             C34.1    stage ia           24477.0         dead     8070/3   \n",
       "1             C34.1    stage ib           26615.0         dead     8070/3   \n",
       "2             C34.3    stage ib           28171.0         dead     8070/3   \n",
       "3             C34.1    stage ia           27154.0        alive     8083/3   \n",
       "4             C34.3   stage iib           29827.0         dead     8070/3   \n",
       "\n",
       "   days_to_death state tissue_or_organ_of_origin  days_to_birth  \\\n",
       "0          371.0  live                     C34.1       -24477.0   \n",
       "1          136.0  live                     C34.1       -26615.0   \n",
       "2         2304.0  live                     C34.3       -28171.0   \n",
       "3            NaN  live                     C34.1       -27154.0   \n",
       "4          146.0  live                     C34.3       -29827.0   \n",
       "\n",
       "  site_of_resection_or_biopsy  days_to_last_follow_up  cigarettes_per_day  \\\n",
       "0                       C34.1                     NaN           10.958904   \n",
       "1                       C34.1                     NaN            2.191781   \n",
       "2                       C34.3                  2099.0            1.643836   \n",
       "3                       C34.1                  3747.0            1.095890   \n",
       "4                       C34.3                     NaN                 NaN   \n",
       "\n",
       "   years_smoked  gender  year_of_birth          race               ethnicity  \\\n",
       "0           NaN    male         1936.0         white  not hispanic or latino   \n",
       "1           NaN    male         1931.0         asian  not hispanic or latino   \n",
       "2           NaN  female         1927.0         white  not hispanic or latino   \n",
       "3           NaN    male         1930.0         white  not hispanic or latino   \n",
       "4           NaN    male         1923.0  not reported            not reported   \n",
       "\n",
       "   year_of_death bcr_patient_barcode disease  \n",
       "0         2004.0        TCGA-18-3406    LUSC  \n",
       "1         2003.0        TCGA-18-3407    LUSC  \n",
       "2            NaN        TCGA-18-3408    LUSC  \n",
       "3            NaN        TCGA-18-3409    LUSC  \n",
       "4         2004.0        TCGA-18-3410    LUSC  "
      ]
     },
     "execution_count": 15,
     "metadata": {},
     "output_type": "execute_result"
    }
   ],
   "source": [
    "# preview first few rows of the data\n",
    "clinical_df.head()"
   ]
  },
  {
   "cell_type": "markdown",
   "metadata": {},
   "source": [
    "The `head` function by default shows the the column headers,\n",
    "along with first five rows of data.\n",
    "You can specify a different number of rows by placing that number inside the parentheses, \n",
    "demonstrated below using `tail`, \n",
    "which shows the last few rows:"
   ]
  },
  {
   "cell_type": "code",
   "execution_count": 16,
   "metadata": {},
   "outputs": [
    {
     "data": {
      "text/html": [
       "<div>\n",
       "<style scoped>\n",
       "    .dataframe tbody tr th:only-of-type {\n",
       "        vertical-align: middle;\n",
       "    }\n",
       "\n",
       "    .dataframe tbody tr th {\n",
       "        vertical-align: top;\n",
       "    }\n",
       "\n",
       "    .dataframe thead th {\n",
       "        text-align: right;\n",
       "    }\n",
       "</style>\n",
       "<table border=\"1\" class=\"dataframe\">\n",
       "  <thead>\n",
       "    <tr style=\"text-align: right;\">\n",
       "      <th></th>\n",
       "      <th>primary_diagnosis</th>\n",
       "      <th>tumor_stage</th>\n",
       "      <th>age_at_diagnosis</th>\n",
       "      <th>vital_status</th>\n",
       "      <th>morphology</th>\n",
       "      <th>days_to_death</th>\n",
       "      <th>state</th>\n",
       "      <th>tissue_or_organ_of_origin</th>\n",
       "      <th>days_to_birth</th>\n",
       "      <th>site_of_resection_or_biopsy</th>\n",
       "      <th>days_to_last_follow_up</th>\n",
       "      <th>cigarettes_per_day</th>\n",
       "      <th>years_smoked</th>\n",
       "      <th>gender</th>\n",
       "      <th>year_of_birth</th>\n",
       "      <th>race</th>\n",
       "      <th>ethnicity</th>\n",
       "      <th>year_of_death</th>\n",
       "      <th>bcr_patient_barcode</th>\n",
       "      <th>disease</th>\n",
       "    </tr>\n",
       "  </thead>\n",
       "  <tbody>\n",
       "    <tr>\n",
       "      <th>0</th>\n",
       "      <td>C34.1</td>\n",
       "      <td>stage ia</td>\n",
       "      <td>24477.0</td>\n",
       "      <td>dead</td>\n",
       "      <td>8070/3</td>\n",
       "      <td>371.0</td>\n",
       "      <td>live</td>\n",
       "      <td>C34.1</td>\n",
       "      <td>-24477.0</td>\n",
       "      <td>C34.1</td>\n",
       "      <td>NaN</td>\n",
       "      <td>10.958904</td>\n",
       "      <td>NaN</td>\n",
       "      <td>male</td>\n",
       "      <td>1936.0</td>\n",
       "      <td>white</td>\n",
       "      <td>not hispanic or latino</td>\n",
       "      <td>2004.0</td>\n",
       "      <td>TCGA-18-3406</td>\n",
       "      <td>LUSC</td>\n",
       "    </tr>\n",
       "    <tr>\n",
       "      <th>1</th>\n",
       "      <td>C34.1</td>\n",
       "      <td>stage ib</td>\n",
       "      <td>26615.0</td>\n",
       "      <td>dead</td>\n",
       "      <td>8070/3</td>\n",
       "      <td>136.0</td>\n",
       "      <td>live</td>\n",
       "      <td>C34.1</td>\n",
       "      <td>-26615.0</td>\n",
       "      <td>C34.1</td>\n",
       "      <td>NaN</td>\n",
       "      <td>2.191781</td>\n",
       "      <td>NaN</td>\n",
       "      <td>male</td>\n",
       "      <td>1931.0</td>\n",
       "      <td>asian</td>\n",
       "      <td>not hispanic or latino</td>\n",
       "      <td>2003.0</td>\n",
       "      <td>TCGA-18-3407</td>\n",
       "      <td>LUSC</td>\n",
       "    </tr>\n",
       "    <tr>\n",
       "      <th>2</th>\n",
       "      <td>C34.3</td>\n",
       "      <td>stage ib</td>\n",
       "      <td>28171.0</td>\n",
       "      <td>dead</td>\n",
       "      <td>8070/3</td>\n",
       "      <td>2304.0</td>\n",
       "      <td>live</td>\n",
       "      <td>C34.3</td>\n",
       "      <td>-28171.0</td>\n",
       "      <td>C34.3</td>\n",
       "      <td>2099.0</td>\n",
       "      <td>1.643836</td>\n",
       "      <td>NaN</td>\n",
       "      <td>female</td>\n",
       "      <td>1927.0</td>\n",
       "      <td>white</td>\n",
       "      <td>not hispanic or latino</td>\n",
       "      <td>NaN</td>\n",
       "      <td>TCGA-18-3408</td>\n",
       "      <td>LUSC</td>\n",
       "    </tr>\n",
       "    <tr>\n",
       "      <th>3</th>\n",
       "      <td>C34.1</td>\n",
       "      <td>stage ia</td>\n",
       "      <td>27154.0</td>\n",
       "      <td>alive</td>\n",
       "      <td>8083/3</td>\n",
       "      <td>NaN</td>\n",
       "      <td>live</td>\n",
       "      <td>C34.1</td>\n",
       "      <td>-27154.0</td>\n",
       "      <td>C34.1</td>\n",
       "      <td>3747.0</td>\n",
       "      <td>1.095890</td>\n",
       "      <td>NaN</td>\n",
       "      <td>male</td>\n",
       "      <td>1930.0</td>\n",
       "      <td>white</td>\n",
       "      <td>not hispanic or latino</td>\n",
       "      <td>NaN</td>\n",
       "      <td>TCGA-18-3409</td>\n",
       "      <td>LUSC</td>\n",
       "    </tr>\n",
       "    <tr>\n",
       "      <th>4</th>\n",
       "      <td>C34.3</td>\n",
       "      <td>stage iib</td>\n",
       "      <td>29827.0</td>\n",
       "      <td>dead</td>\n",
       "      <td>8070/3</td>\n",
       "      <td>146.0</td>\n",
       "      <td>live</td>\n",
       "      <td>C34.3</td>\n",
       "      <td>-29827.0</td>\n",
       "      <td>C34.3</td>\n",
       "      <td>NaN</td>\n",
       "      <td>NaN</td>\n",
       "      <td>NaN</td>\n",
       "      <td>male</td>\n",
       "      <td>1923.0</td>\n",
       "      <td>not reported</td>\n",
       "      <td>not reported</td>\n",
       "      <td>2004.0</td>\n",
       "      <td>TCGA-18-3410</td>\n",
       "      <td>LUSC</td>\n",
       "    </tr>\n",
       "    <tr>\n",
       "      <th>5</th>\n",
       "      <td>C34.1</td>\n",
       "      <td>stage iiia</td>\n",
       "      <td>23370.0</td>\n",
       "      <td>alive</td>\n",
       "      <td>8070/3</td>\n",
       "      <td>NaN</td>\n",
       "      <td>live</td>\n",
       "      <td>C34.1</td>\n",
       "      <td>-23370.0</td>\n",
       "      <td>C34.1</td>\n",
       "      <td>3576.0</td>\n",
       "      <td>2.739726</td>\n",
       "      <td>NaN</td>\n",
       "      <td>female</td>\n",
       "      <td>1942.0</td>\n",
       "      <td>not reported</td>\n",
       "      <td>not reported</td>\n",
       "      <td>NaN</td>\n",
       "      <td>TCGA-18-3411</td>\n",
       "      <td>LUSC</td>\n",
       "    </tr>\n",
       "    <tr>\n",
       "      <th>6</th>\n",
       "      <td>C34.3</td>\n",
       "      <td>stage ib</td>\n",
       "      <td>19025.0</td>\n",
       "      <td>dead</td>\n",
       "      <td>8070/3</td>\n",
       "      <td>345.0</td>\n",
       "      <td>live</td>\n",
       "      <td>C34.3</td>\n",
       "      <td>-19025.0</td>\n",
       "      <td>C34.3</td>\n",
       "      <td>NaN</td>\n",
       "      <td>1.369863</td>\n",
       "      <td>NaN</td>\n",
       "      <td>male</td>\n",
       "      <td>1953.0</td>\n",
       "      <td>white</td>\n",
       "      <td>not hispanic or latino</td>\n",
       "      <td>2005.0</td>\n",
       "      <td>TCGA-18-3412</td>\n",
       "      <td>LUSC</td>\n",
       "    </tr>\n",
       "    <tr>\n",
       "      <th>7</th>\n",
       "      <td>C34.3</td>\n",
       "      <td>stage iv</td>\n",
       "      <td>26938.0</td>\n",
       "      <td>dead</td>\n",
       "      <td>8070/3</td>\n",
       "      <td>716.0</td>\n",
       "      <td>live</td>\n",
       "      <td>C34.3</td>\n",
       "      <td>-26938.0</td>\n",
       "      <td>C34.3</td>\n",
       "      <td>NaN</td>\n",
       "      <td>1.369863</td>\n",
       "      <td>NaN</td>\n",
       "      <td>male</td>\n",
       "      <td>1932.0</td>\n",
       "      <td>asian</td>\n",
       "      <td>not hispanic or latino</td>\n",
       "      <td>2006.0</td>\n",
       "      <td>TCGA-18-3414</td>\n",
       "      <td>LUSC</td>\n",
       "    </tr>\n",
       "  </tbody>\n",
       "</table>\n",
       "</div>"
      ],
      "text/plain": [
       "  primary_diagnosis tumor_stage  age_at_diagnosis vital_status morphology  \\\n",
       "0             C34.1    stage ia           24477.0         dead     8070/3   \n",
       "1             C34.1    stage ib           26615.0         dead     8070/3   \n",
       "2             C34.3    stage ib           28171.0         dead     8070/3   \n",
       "3             C34.1    stage ia           27154.0        alive     8083/3   \n",
       "4             C34.3   stage iib           29827.0         dead     8070/3   \n",
       "5             C34.1  stage iiia           23370.0        alive     8070/3   \n",
       "6             C34.3    stage ib           19025.0         dead     8070/3   \n",
       "7             C34.3    stage iv           26938.0         dead     8070/3   \n",
       "\n",
       "   days_to_death state tissue_or_organ_of_origin  days_to_birth  \\\n",
       "0          371.0  live                     C34.1       -24477.0   \n",
       "1          136.0  live                     C34.1       -26615.0   \n",
       "2         2304.0  live                     C34.3       -28171.0   \n",
       "3            NaN  live                     C34.1       -27154.0   \n",
       "4          146.0  live                     C34.3       -29827.0   \n",
       "5            NaN  live                     C34.1       -23370.0   \n",
       "6          345.0  live                     C34.3       -19025.0   \n",
       "7          716.0  live                     C34.3       -26938.0   \n",
       "\n",
       "  site_of_resection_or_biopsy  days_to_last_follow_up  cigarettes_per_day  \\\n",
       "0                       C34.1                     NaN           10.958904   \n",
       "1                       C34.1                     NaN            2.191781   \n",
       "2                       C34.3                  2099.0            1.643836   \n",
       "3                       C34.1                  3747.0            1.095890   \n",
       "4                       C34.3                     NaN                 NaN   \n",
       "5                       C34.1                  3576.0            2.739726   \n",
       "6                       C34.3                     NaN            1.369863   \n",
       "7                       C34.3                     NaN            1.369863   \n",
       "\n",
       "   years_smoked  gender  year_of_birth          race               ethnicity  \\\n",
       "0           NaN    male         1936.0         white  not hispanic or latino   \n",
       "1           NaN    male         1931.0         asian  not hispanic or latino   \n",
       "2           NaN  female         1927.0         white  not hispanic or latino   \n",
       "3           NaN    male         1930.0         white  not hispanic or latino   \n",
       "4           NaN    male         1923.0  not reported            not reported   \n",
       "5           NaN  female         1942.0  not reported            not reported   \n",
       "6           NaN    male         1953.0         white  not hispanic or latino   \n",
       "7           NaN    male         1932.0         asian  not hispanic or latino   \n",
       "\n",
       "   year_of_death bcr_patient_barcode disease  \n",
       "0         2004.0        TCGA-18-3406    LUSC  \n",
       "1         2003.0        TCGA-18-3407    LUSC  \n",
       "2            NaN        TCGA-18-3408    LUSC  \n",
       "3            NaN        TCGA-18-3409    LUSC  \n",
       "4         2004.0        TCGA-18-3410    LUSC  \n",
       "5            NaN        TCGA-18-3411    LUSC  \n",
       "6         2005.0        TCGA-18-3412    LUSC  \n",
       "7         2006.0        TCGA-18-3414    LUSC  "
      ]
     },
     "execution_count": 16,
     "metadata": {},
     "output_type": "execute_result"
    }
   ],
   "source": [
    "# print last eight rows of data to screen\n",
    "clinical_df.head(8) # print top n rows"
   ]
  },
  {
   "cell_type": "markdown",
   "metadata": {},
   "source": [
    "**Challenge:** Download, import, and inspect the following data files. \n",
    "The URL for each sample dataset is included along with a name to assign to the variable. \n",
    "(Hint: you can use the same function as above, but may need to update the `sep =` argument)\n",
    "\n",
    "- URL: https://raw.githubusercontent.com/fredhutchio/R_intro/master/extra/clinical.tsv, object name: example1\n",
    "- URL: https://raw.githubusercontent.com/fredhutchio/R_intro/master/extra/clinical.txt, object name: example2\n",
    "\n",
    "Importing data can be tricky and frustrating. \n",
    "However, if you can’t get your data into Python, \n",
    "you can’t do anything to analyze or visualize it. \n",
    "It’s worth understanding how to do it effectively to save you time and energy later.\n",
    "\n",
    "Now that we have data imported and available, \n",
    "we can print a summary of all column names, number of entries, data types, and non-null values:"
   ]
  },
  {
   "cell_type": "code",
   "execution_count": 17,
   "metadata": {},
   "outputs": [
    {
     "name": "stdout",
     "output_type": "stream",
     "text": [
      "<class 'pandas.core.frame.DataFrame'>\n",
      "RangeIndex: 6832 entries, 0 to 6831\n",
      "Data columns (total 20 columns):\n",
      "primary_diagnosis              6793 non-null object\n",
      "tumor_stage                    6793 non-null object\n",
      "age_at_diagnosis               6718 non-null float64\n",
      "vital_status                   6793 non-null object\n",
      "morphology                     6793 non-null object\n",
      "days_to_death                  2187 non-null float64\n",
      "state                          6793 non-null object\n",
      "tissue_or_organ_of_origin      6793 non-null object\n",
      "days_to_birth                  6718 non-null float64\n",
      "site_of_resection_or_biopsy    6793 non-null object\n",
      "days_to_last_follow_up         5714 non-null float64\n",
      "cigarettes_per_day             1171 non-null float64\n",
      "years_smoked                   448 non-null float64\n",
      "gender                         6793 non-null object\n",
      "year_of_birth                  6662 non-null float64\n",
      "race                           6793 non-null object\n",
      "ethnicity                      6793 non-null object\n",
      "year_of_death                  1566 non-null float64\n",
      "bcr_patient_barcode            6793 non-null object\n",
      "disease                        6832 non-null object\n",
      "dtypes: float64(8), object(12)\n",
      "memory usage: 1.0+ MB\n"
     ]
    }
   ],
   "source": [
    "# print summary\n",
    "clinical_df.info() "
   ]
  },
  {
   "cell_type": "markdown",
   "metadata": {},
   "source": [
    "The output above highlight another of the key features of `pandas`:\n",
    "it interprets data in ways that make it easier to analyze.\n",
    "\n",
    "The description at the top of this output,\n",
    "`pandas.core.frame.DataFrame`,\n",
    "describes the data structure as a data frame,\n",
    "which is how `pandas` interprets spreadsheet style data.\n",
    "Directly below that line,\n",
    "we see a note that there are 6832 observations (rows, or our case, patients or cases),\n",
    "as well as 20 columns.\n",
    "A summary of the data type for each column is below.\n",
    "\n",
    "In the last lesson,\n",
    "we discussed data types built into Python.\n",
    "`pandas` features the following data types specific to its package,\n",
    "which were implemented in our data:\n",
    "\n",
    "- `object` data in `pandas` represents string (character) data in native Python\n",
    "- `float64` is still float data (the `64` references 64 bit hardware)\n",
    "- `int64` in `pandas` isn't represented in our data, but refers to integer data \n",
    "- `datetime64` from `pandas` also isn't shown here, but refers to a specific format to make working with date and time data easier. \n",
    "\n",
    "> To create a list in a markdown cell, \n",
    "use an asterisk (`*`) or dash (`-`) followed by a space;\n",
    "these will be rendered as bullet points when you execute the cell."
   ]
  },
  {
   "cell_type": "markdown",
   "metadata": {},
   "source": [
    "## Accessing columns and rows\n",
    "\n",
    "A common task in data analysis is to extract particular columns or rows,.\n",
    "often referred to as subsetting\n",
    "This section explores a few different ways to access these parts of our spreadsheet.\n",
    "\n",
    "First, we can extract "
   ]
  },
  {
   "cell_type": "code",
   "execution_count": null,
   "metadata": {},
   "outputs": [],
   "source": [
    "# select a \"subset\" of the data using the column name\n",
    "clinical_df[\"tumor_stage\"]"
   ]
  },
  {
   "cell_type": "code",
   "execution_count": null,
   "metadata": {},
   "outputs": [],
   "source": [
    "# show only the first few rows of output\n",
    "clinical_df[\"tumor_stage\"].head()"
   ]
  },
  {
   "cell_type": "code",
   "execution_count": null,
   "metadata": {},
   "outputs": [],
   "source": [
    "# show data type for this row\n",
    "clinical_df[\"tumor_stage\"].dtype # single column, O stands for \"object\""
   ]
  },
  {
   "cell_type": "code",
   "execution_count": null,
   "metadata": {},
   "outputs": [],
   "source": [
    "# use the column name as an \"attribute\"; gives the same output\n",
    "clinical_df.tumor_stage"
   ]
  },
  {
   "cell_type": "code",
   "execution_count": null,
   "metadata": {},
   "outputs": [],
   "source": [
    "# head still works here!\n",
    "clinical_df.tumor_stage.head()"
   ]
  },
  {
   "cell_type": "code",
   "execution_count": null,
   "metadata": {},
   "outputs": [],
   "source": [
    "# What happens if you ask for a column that doesn't exist?\n",
    "# clinical_df[\"tumorstage\"] # uncomment this line"
   ]
  },
  {
   "cell_type": "code",
   "execution_count": null,
   "metadata": {},
   "outputs": [],
   "source": [
    "# Select two columns at once\n",
    "clinical_df[[\"tumor_stage\", \"vital_status\"]]\n",
    "# can't use .column_name because there are multiple columns!\n",
    "# double brackets are part of normal python syntax;\n",
    "# they reference parts of lists, which can represent more complex data structures"
   ]
  },
  {
   "cell_type": "markdown",
   "metadata": {},
   "source": [
    "**Challenge:** does the order of the columns you list matter?"
   ]
  },
  {
   "cell_type": "code",
   "execution_count": null,
   "metadata": {},
   "outputs": [],
   "source": [
    "# Select rows 0, 1, 2 (row 3 is not selected)\n",
    "clinical_df[0:3]"
   ]
  },
  {
   "cell_type": "code",
   "execution_count": null,
   "metadata": {},
   "outputs": [],
   "source": [
    "# Select row 2 to the end\n",
    "clinical_df[1:]"
   ]
  },
  {
   "cell_type": "code",
   "execution_count": null,
   "metadata": {},
   "outputs": [],
   "source": [
    "# Select the last element in the list\n",
    "clinical_df[-1:] # what does this mean in the context of indexing?"
   ]
  },
  {
   "cell_type": "markdown",
   "metadata": {},
   "source": [
    "**Challenge:** how would you extract the last 10 rows of the dataset?"
   ]
  },
  {
   "cell_type": "markdown",
   "metadata": {},
   "source": [
    "## Slicing subsets of rows and columns"
   ]
  },
  {
   "cell_type": "code",
   "execution_count": null,
   "metadata": {},
   "outputs": [],
   "source": [
    "# iloc is integer indexing [row slicing, column slicing]\n",
    "# locate specific data element\n",
    "clinical_df.iloc[2, 6]"
   ]
  },
  {
   "cell_type": "code",
   "execution_count": null,
   "metadata": {},
   "outputs": [],
   "source": [
    "# select range of data\n",
    "clinical_df.iloc[0:3, 1:4]"
   ]
  },
  {
   "cell_type": "code",
   "execution_count": null,
   "metadata": {},
   "outputs": [],
   "source": [
    "# stop/end bound is NOT inclusive (e.g., up to but not including 3)\n",
    "# can use empty stop boundary to indicate end of data\n",
    "clinical_df.iloc[0:, 1:4]"
   ]
  },
  {
   "cell_type": "code",
   "execution_count": null,
   "metadata": {},
   "outputs": [],
   "source": [
    "# loc is for label indexing (integers interpreted as labels)\n",
    "# start and stop bound are inclusive\n",
    "clinical_df.loc[1:4]"
   ]
  },
  {
   "cell_type": "code",
   "execution_count": null,
   "metadata": {},
   "outputs": [],
   "source": [
    "# can use empty stop boundary to indicate end of data\n",
    "clinical_df.loc[1: ]"
   ]
  },
  {
   "cell_type": "code",
   "execution_count": null,
   "metadata": {},
   "outputs": [],
   "source": [
    "# Select all columns for rows of index values specified\n",
    "clinical_df.loc[[0, 10, 6831], ]"
   ]
  },
  {
   "cell_type": "code",
   "execution_count": null,
   "metadata": {},
   "outputs": [],
   "source": [
    "# select first row for specified columns\n",
    "clinical_df.loc[0, [\"primary_diagnosis\", \"tumor_stage\", \"age_at_diagnosis\"]]"
   ]
  },
  {
   "cell_type": "markdown",
   "metadata": {},
   "source": [
    "**Challenge:** why doesn't the following code work?\n",
    "\n",
    "`clinical_df.loc[2, 6]`"
   ]
  },
  {
   "cell_type": "markdown",
   "metadata": {},
   "source": [
    "**Challenge:** how would you extract the last 100 rows for only vital status and days to death?"
   ]
  },
  {
   "cell_type": "code",
   "execution_count": null,
   "metadata": {},
   "outputs": [],
   "source": [
    "clinical_df.loc[6732:, [\"vital_status\", \"days_to_death\"]]"
   ]
  },
  {
   "cell_type": "code",
   "execution_count": null,
   "metadata": {},
   "outputs": [],
   "source": [
    "clinical_df.iloc[-100:, [3,5]]"
   ]
  },
  {
   "cell_type": "code",
   "execution_count": null,
   "metadata": {},
   "outputs": [],
   "source": [
    "clinical_df.info()\n",
    "# Say you have a dataframe with a lot of columns and you want to grab alot of them\n",
    "# for your analysis but not all. You can use numpy's R_ to make it easer\n",
    "\n",
    "import numpy as np # imports numpy and aliases it as \"np\"\n",
    "# Now say you want to get all the rows and columns but 'bcr_patient_barcode'\n",
    "\n",
    "# clinical_df.iloc[0:, 0:18, 19:20] # this WONT work\n",
    "clinical_df.iloc[0:, np.r_[0:18, 19:20] ] # but this does\n",
    "\n",
    "# We are using numpy's R- which translates slice objects to concatenate along the first axis\n",
    "np.r_[0:18, 19:20] # this takes the slices objects and makes an array\n",
    "\n",
    "# You can then pass that array to iloc like so:\n",
    "clinical_df.iloc[0:, np.r_[0:18, 19:20] ].head()\n",
    "# This is just an easy way to quickly wrangle large dataframes by columns if need be\n",
    "\n",
    "# You can also employ this when reading in files as dataframes using the `usecols` parameter like so\n",
    "#pd.read_csv(\"data/clinical.txt\", sep=\" \", usecols=np.r_[0:18, 19:20])"
   ]
  },
  {
   "cell_type": "markdown",
   "metadata": {},
   "source": [
    "## Calculating summary statistics"
   ]
  },
  {
   "cell_type": "code",
   "execution_count": null,
   "metadata": {},
   "outputs": [],
   "source": [
    "# calculate basic stats for all records in single column\n",
    "clinical_df.age_at_diagnosis.describe()"
   ]
  },
  {
   "cell_type": "code",
   "execution_count": null,
   "metadata": {},
   "outputs": [],
   "source": [
    "# each metric one at a time (only prints last if all executed in one cell!)\n",
    "clinical_df.age_at_diagnosis.min()"
   ]
  },
  {
   "cell_type": "code",
   "execution_count": null,
   "metadata": {},
   "outputs": [],
   "source": [
    "# convert columns\n",
    "clinical_df.age_at_diagnosis/365"
   ]
  },
  {
   "cell_type": "code",
   "execution_count": null,
   "metadata": {},
   "outputs": [],
   "source": [
    "# convert min to days\n",
    "clinical_df.age_at_diagnosis.min()/365"
   ]
  },
  {
   "cell_type": "code",
   "execution_count": null,
   "metadata": {},
   "outputs": [],
   "source": [
    "## Challenge: What type of summary stats do you get for object data?\n",
    "clinical_df.site_of_resection_or_biopsy.describe()"
   ]
  },
  {
   "cell_type": "code",
   "execution_count": null,
   "metadata": {},
   "outputs": [],
   "source": [
    "## Challenge: How would you extract only the standard deviation for days to death?\n",
    "clinical_df.days_to_death.std()"
   ]
  },
  {
   "cell_type": "markdown",
   "metadata": {},
   "source": [
    "## Copying vs referencing objects"
   ]
  },
  {
   "cell_type": "code",
   "execution_count": null,
   "metadata": {},
   "outputs": [],
   "source": [
    "# Using the \"=\" operator references the previous object\n",
    "ref_clinical_df = clinical_df\n",
    "ref_clinical_df"
   ]
  },
  {
   "cell_type": "code",
   "execution_count": null,
   "metadata": {},
   "outputs": [],
   "source": [
    "# Using the \"copy() method\": actually creates another object\n",
    "true_copy_clinical_df = clinical_df.copy()\n",
    "true_copy_clinical_df"
   ]
  },
  {
   "cell_type": "code",
   "execution_count": null,
   "metadata": {},
   "outputs": [],
   "source": [
    "# Assign the value `0` to the first three rows of data in the DataFrame\n",
    "ref_clinical_df[0:3] = 0\n",
    "ref_clinical_df.head()\n",
    "# note: you probably wouldn't want to actually *do* this to your data!"
   ]
  },
  {
   "cell_type": "markdown",
   "metadata": {},
   "source": [
    "**Challenge:** How and why are the following three objects different?\n",
    "_Hint: try applying `head()`_"
   ]
  },
  {
   "cell_type": "code",
   "execution_count": null,
   "metadata": {},
   "outputs": [],
   "source": [
    "clinical_df.head() # has been modified because ref_clinical_df referenced it"
   ]
  },
  {
   "cell_type": "code",
   "execution_count": null,
   "metadata": {},
   "outputs": [],
   "source": [
    "ref_clinical_df.head() # was actually altered"
   ]
  },
  {
   "cell_type": "code",
   "execution_count": null,
   "metadata": {},
   "outputs": [],
   "source": [
    "true_copy_clinical_df.head() # actual copy of original, unaltered\n",
    "# reinforce that the order of operations matters!"
   ]
  },
  {
   "cell_type": "markdown",
   "metadata": {},
   "source": [
    "## Wrapping up\n",
    "- review objectives\n",
    "- preview next week's objectives\n",
    "- demo of spyder IDE, if time allows"
   ]
  },
  {
   "cell_type": "code",
   "execution_count": null,
   "metadata": {},
   "outputs": [],
   "source": []
  }
 ],
 "metadata": {
  "anaconda-cloud": {},
  "kernelspec": {
   "display_name": "Python 3",
   "language": "python",
   "name": "python3"
  },
  "language_info": {
   "codemirror_mode": {
    "name": "ipython",
    "version": 3
   },
   "file_extension": ".py",
   "mimetype": "text/x-python",
   "name": "python",
   "nbconvert_exporter": "python",
   "pygments_lexer": "ipython3",
   "version": "3.6.8"
  }
 },
 "nbformat": 4,
 "nbformat_minor": 4
}
